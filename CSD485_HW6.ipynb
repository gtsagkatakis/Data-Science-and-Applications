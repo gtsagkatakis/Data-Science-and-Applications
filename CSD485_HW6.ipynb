{
  "nbformat": 4,
  "nbformat_minor": 0,
  "metadata": {
    "colab": {
      "provenance": [],
      "include_colab_link": true
    },
    "kernelspec": {
      "name": "python3",
      "display_name": "Python 3"
    },
    "language_info": {
      "name": "python"
    }
  },
  "cells": [
    {
      "cell_type": "markdown",
      "metadata": {
        "id": "view-in-github",
        "colab_type": "text"
      },
      "source": [
        "<a href=\"https://colab.research.google.com/github/gtsagkatakis/Data-Science-and-Applications/blob/main/CSD485_HW6.ipynb\" target=\"_parent\"><img src=\"https://colab.research.google.com/assets/colab-badge.svg\" alt=\"Open In Colab\"/></a>"
      ]
    },
    {
      "cell_type": "markdown",
      "source": [
        "#Load Dataset"
      ],
      "metadata": {
        "id": "vWtHtgg8xc94"
      }
    },
    {
      "cell_type": "code",
      "source": [
        "import pandas as pd\n",
        "import numpy as np\n",
        "import matplotlib.pyplot as plt\n",
        "from statsmodels.tsa.stattools import adfuller\n",
        "from statsmodels.graphics.tsaplots import plot_acf, plot_pacf\n",
        "from statsmodels.tsa.seasonal import seasonal_decompose\n",
        "from statsmodels.tsa.arima.model import ARIMA\n",
        "from sklearn.metrics import mean_squared_error\n",
        "from tensorflow.keras.models import Sequential\n",
        "from tensorflow.keras.layers import LSTM, Dense, SimpleRNN\n",
        "from sklearn.preprocessing import MinMaxScaler\n",
        "from statsmodels.tsa.vector_ar.var_model import VAR\n",
        "\n",
        "# Load dataset\n",
        "from statsmodels.datasets import sunspots\n",
        "df = sunspots.load_pandas().data"
      ],
      "metadata": {
        "id": "rWRSASxUy7lK"
      },
      "execution_count": null,
      "outputs": []
    },
    {
      "cell_type": "markdown",
      "source": [
        "#ADF Analysis\n",
        "\n",
        "##is stationary?\n",
        "\n",
        "\n"
      ],
      "metadata": {
        "id": "ba59hcKvxkdu"
      }
    },
    {
      "cell_type": "code",
      "source": [],
      "metadata": {
        "id": "2yroh5m9x-2u"
      },
      "execution_count": null,
      "outputs": []
    },
    {
      "cell_type": "markdown",
      "source": [
        "# ACF & PACF\n"
      ],
      "metadata": {
        "id": "t6Yd7gXDxyUW"
      }
    },
    {
      "cell_type": "code",
      "source": [],
      "metadata": {
        "id": "Iq9FUFavx_zN"
      },
      "execution_count": null,
      "outputs": []
    },
    {
      "cell_type": "markdown",
      "source": [
        "#STL Analysis"
      ],
      "metadata": {
        "id": "DTNCs8WOyQ7v"
      }
    },
    {
      "cell_type": "code",
      "source": [],
      "metadata": {
        "id": "Yo9rVZz8yXtV"
      },
      "execution_count": null,
      "outputs": []
    },
    {
      "cell_type": "markdown",
      "source": [
        "#ARIMA Model\n",
        "## p=? , why\n",
        "## q=?, why\n",
        "## d=?, why"
      ],
      "metadata": {
        "id": "e9IB1Gfdx8Zl"
      }
    },
    {
      "cell_type": "markdown",
      "source": [
        "#LSTM Model"
      ],
      "metadata": {
        "id": "ZsOk-DWhyY3j"
      }
    },
    {
      "cell_type": "code",
      "source": [],
      "metadata": {
        "id": "kSq6FK8ryZdT"
      },
      "execution_count": null,
      "outputs": []
    },
    {
      "cell_type": "markdown",
      "source": [
        "#Simple RNN"
      ],
      "metadata": {
        "id": "ypoC3Beeynao"
      }
    },
    {
      "cell_type": "code",
      "source": [],
      "metadata": {
        "id": "lrq8GHaAyqFF"
      },
      "execution_count": null,
      "outputs": []
    },
    {
      "cell_type": "markdown",
      "source": [
        "#Plot Actual and Predicted values from all models"
      ],
      "metadata": {
        "id": "1sdzhZtUyrM-"
      }
    },
    {
      "cell_type": "code",
      "source": [],
      "metadata": {
        "id": "lxOZQ7gMyvHf"
      },
      "execution_count": null,
      "outputs": []
    },
    {
      "cell_type": "markdown",
      "source": [
        "#Plot Performance metric for each method"
      ],
      "metadata": {
        "id": "TNzh0VIKywTi"
      }
    },
    {
      "cell_type": "code",
      "source": [],
      "metadata": {
        "id": "HaioEDway4SO"
      },
      "execution_count": null,
      "outputs": []
    }
  ]
}