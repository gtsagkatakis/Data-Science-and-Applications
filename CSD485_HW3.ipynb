{
  "nbformat": 4,
  "nbformat_minor": 0,
  "metadata": {
    "colab": {
      "provenance": [],
      "authorship_tag": "ABX9TyNfxvuycVQLTdVsNX6HL93s",
      "include_colab_link": true
    },
    "kernelspec": {
      "name": "python3",
      "display_name": "Python 3"
    },
    "language_info": {
      "name": "python"
    }
  },
  "cells": [
    {
      "cell_type": "markdown",
      "metadata": {
        "id": "view-in-github",
        "colab_type": "text"
      },
      "source": [
        "<a href=\"https://colab.research.google.com/github/gtsagkatakis/Data-Science-and-Applications/blob/main/CSD485_HW3.ipynb\" target=\"_parent\"><img src=\"https://colab.research.google.com/assets/colab-badge.svg\" alt=\"Open In Colab\"/></a>"
      ]
    },
    {
      "cell_type": "markdown",
      "source": [
        "# HOMEWORK 3: Classifying Wines with Support Vector Machines (SVM)\n",
        "\n",
        "The objective of this exercise is to build and evaluate a Support Vector Machine (SVM) model for classifying wines based on their chemical properties using the Wine dataset available in scikit-learn. You will explore various aspects of SVM model training and optimization, including preprocessing steps, hyperparameter tuning, and kernel selection.\n",
        "\n",
        "\n",
        "\n",
        "\n",
        "\n"
      ],
      "metadata": {
        "id": "-wK0lGVzh7A2"
      }
    },
    {
      "cell_type": "markdown",
      "source": [
        "#Loading the Dataset\n",
        "\n",
        "Load the Wine dataset using load_wine from sklearn.datasets.\n",
        "Inspect the dataset to understand its structure and features."
      ],
      "metadata": {
        "id": "5arhNMQZlaOT"
      }
    },
    {
      "cell_type": "code",
      "source": [],
      "metadata": {
        "id": "jG1t5gP0hqBJ"
      },
      "execution_count": null,
      "outputs": []
    },
    {
      "cell_type": "markdown",
      "source": [
        "#Data Preprocessing\n",
        "\n",
        "- Split the dataset into features and target labels.\n",
        "- Split the data into training and testing sets using train_test_split from sklearn.model_selection."
      ],
      "metadata": {
        "id": "Q6tKlh65lg6r"
      }
    },
    {
      "cell_type": "code",
      "source": [],
      "metadata": {
        "id": "C6UKfRfQlxRj"
      },
      "execution_count": null,
      "outputs": []
    },
    {
      "cell_type": "markdown",
      "source": [
        "#Data Normalization\n",
        "\n",
        "Standardize the features using StandardScaler from sklearn.preprocessing.\n",
        "Explore the effects of data normalization on model performance with different normalization techniques."
      ],
      "metadata": {
        "id": "6OKl2qDhlxfL"
      }
    },
    {
      "cell_type": "code",
      "source": [],
      "metadata": {
        "id": "ykUPuvlcl94k"
      },
      "execution_count": null,
      "outputs": []
    },
    {
      "cell_type": "markdown",
      "source": [
        "# Baseline Model\n",
        "\n",
        "Train a baseline SVM model using default hyperparameters.\n",
        "Evaluate the model's performance on the testing set using metrics like accuracy, precision, recall, and F1-score. Experiment with different kernel functions (e.g., linear, polynomial, RBF) and observe their effects on model performance."
      ],
      "metadata": {
        "id": "__ovTewVl-ir"
      }
    },
    {
      "cell_type": "code",
      "source": [],
      "metadata": {
        "id": "1WXtlop5mKed"
      },
      "execution_count": null,
      "outputs": []
    },
    {
      "cell_type": "markdown",
      "source": [
        "#Hyperparameter Tuning\n",
        "\n",
        "Perform hyperparameter tuning to find the best combination of hyperparameters for the SVM model.\n",
        "Tune hyperparameters such as C (regularization parameter) and the choice of kernel (linear, polynomial, RBF).\n",
        "Use techniques like GridSearchCV or RandomizedSearchCV from sklearn.model_selection to efficiently search through the hyperparameter space.\n",
        "Evaluate the performance of **tuned models** on the testing set."
      ],
      "metadata": {
        "id": "Rbx9YpVSmP1V"
      }
    },
    {
      "cell_type": "code",
      "source": [],
      "metadata": {
        "id": "K1XtODy-meFB"
      },
      "execution_count": null,
      "outputs": []
    },
    {
      "cell_type": "markdown",
      "source": [
        "#Effects of Data Size\n",
        "\n",
        "Explore the effects of varying the size of the training data on model performance.\n",
        "Train SVM models using different proportions of the training data and observe how performance changes (change the data split ratio).\n",
        "Plot learning curves to visualize the relationship between training size and model performance."
      ],
      "metadata": {
        "id": "8AFd23UzmeYM"
      }
    },
    {
      "cell_type": "code",
      "source": [],
      "metadata": {
        "id": "Q9qsZXwemem-"
      },
      "execution_count": null,
      "outputs": []
    },
    {
      "cell_type": "markdown",
      "source": [
        "# Model Evaluation\n",
        "\n",
        "Evaluate the final tuned SVM model on the testing set using various performance metrics.\n",
        "Plot confusion matrices to visualize the model's predictions.\n",
        "Discuss the results and insights gained from the experimentation."
      ],
      "metadata": {
        "id": "kPr0Wrbtmfo9"
      }
    },
    {
      "cell_type": "code",
      "source": [],
      "metadata": {
        "id": "rmaLlz4knMIS"
      },
      "execution_count": null,
      "outputs": []
    }
  ]
}