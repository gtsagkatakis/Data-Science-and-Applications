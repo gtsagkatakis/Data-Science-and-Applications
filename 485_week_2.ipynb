{
  "nbformat": 4,
  "nbformat_minor": 0,
  "metadata": {
    "colab": {
      "provenance": [],
      "include_colab_link": true
    },
    "kernelspec": {
      "name": "python3",
      "display_name": "Python 3"
    },
    "language_info": {
      "name": "python"
    }
  },
  "cells": [
    {
      "cell_type": "markdown",
      "metadata": {
        "id": "view-in-github",
        "colab_type": "text"
      },
      "source": [
        "<a href=\"https://colab.research.google.com/github/gtsagkatakis/Data-Science-and-Applications/blob/main/485_week_2.ipynb\" target=\"_parent\"><img src=\"https://colab.research.google.com/assets/colab-badge.svg\" alt=\"Open In Colab\"/></a>"
      ]
    },
    {
      "cell_type": "markdown",
      "source": [],
      "metadata": {
        "id": "bgL_cQL78_iF"
      }
    },
    {
      "cell_type": "markdown",
      "source": [
        "\n",
        "\n",
        "```\n",
        "# This is formatted as code\n",
        "```\n",
        "\n",
        "# Linear algebra with Numpy\n",
        "\n",
        " [Numpy](http://www.numpy.org/) is a high performance library that should be used.\n",
        "\n",
        "Here is how it is described:\n",
        "\n",
        "> NumPy is the fundamental package for scientific computing with Python. It contains among other things: [...]\n",
        " useful linear algebra, Fourier transform, and random number capabilities.\n",
        "\n",
        "In this section we will see how to:\n",
        "\n",
        "- Manipulate matrices;\n",
        "- Solve Matrix equations;\n",
        "- Calculate Matrix inverse and determinants.\n",
        "\n",
        "## Manipulating Vectors\n",
        "$$\n",
        "V = \\begin{pmatrix}\n",
        "9 & 4 & 0\n",
        "\\end{pmatrix}\n",
        "\\\\\n",
        "$$\n",
        "$$\n",
        "V^T = \\begin{pmatrix}\n",
        "9 \\\\ 4 \\\\ 0\\\\\n",
        "\\end{pmatrix}\n",
        "$$\n",
        "\n",
        "## Manipulating Matrices\n",
        "\n",
        "It is straightforward to create a Matrix using Numpy. Let us consider the following as a examples:\n",
        "\n",
        "$$\n",
        "A = \\begin{pmatrix}\n",
        "5 & 6 & 2\\\\\n",
        "4 & 7 & 19\\\\\n",
        "0 & 3 & 12\n",
        "\\end{pmatrix}\n",
        "$$\n",
        "\n",
        "$$\n",
        "B = \\begin{pmatrix}\n",
        "14 & -2 & 12\\\\\n",
        "4 & 4 & 5\\\\\n",
        "5 & 5 & 1\n",
        "\\end{pmatrix}\n",
        "$$\n",
        "\n",
        "\n",
        "We need to import Numpy:"
      ],
      "metadata": {
        "id": "FZ2PoA61Qtni"
      }
    },
    {
      "cell_type": "code",
      "source": [
        "import numpy as np\n",
        "import matplotlib.pyplot as plt\n",
        "import math"
      ],
      "metadata": {
        "id": "gaGfCS7m8_7_"
      },
      "execution_count": null,
      "outputs": []
    },
    {
      "cell_type": "markdown",
      "source": [
        "## Vector\n"
      ],
      "metadata": {
        "id": "xIM7MlUJZy5V"
      }
    },
    {
      "cell_type": "code",
      "source": [
        "# We'll use a numpy array for our vector\n",
        "v = np.array([2,3])\n",
        "\n",
        "# and we'll use a quiver plot to visualize it.\n",
        "origin = [0], [0]\n",
        "plt.axis('equal')\n",
        "plt.grid()\n",
        "plt.ticklabel_format(style='sci', axis='both', scilimits=(0,0))\n",
        "plt.quiver(*origin, *v, scale=10, color='r')\n",
        "plt.show()"
      ],
      "metadata": {
        "colab": {
          "base_uri": "https://localhost:8080/",
          "height": 463
        },
        "id": "n5vAdSCCZ3Mc",
        "outputId": "64265538-f0ff-4e3c-c9a8-0353d7743d7f"
      },
      "execution_count": null,
      "outputs": [
        {
          "output_type": "display_data",
          "data": {
            "text/plain": [
              "<Figure size 640x480 with 1 Axes>"
            ],
            "image/png": "[encoded data removed]"
          },
          "metadata": {}
        }
      ]
    },
    {
      "cell_type": "markdown",
      "source": [
        "# Vector Norms\n",
        "\n",
        "In linear algebra, the norm of a vector $\\mathbf{v}$ is often denoted as $\\|\\mathbf{v}\\|$. There are different types of vector norms, including:\n",
        "\n",
        "1. **Euclidean Norm (L2 Norm):** $\\|\\mathbf{v}\\|_2 = \\sqrt{v_1^2 + v_2^2 + \\ldots + v_n^2}$\n",
        "\n",
        "2. **Manhattan Norm (L1 Norm):** $\\|\\mathbf{v}\\|_1 = |v_1| + |v_2| + \\ldots + |v_n|$\n",
        "\n",
        "3. **Infinity Norm (Max Norm):** $\\|\\mathbf{v}\\|_{\\infty} = \\max(|v_1|, |v_2|, \\ldots, |v_n|)$\n",
        "\n",
        "These norms provide different ways to measure the size or distance of a vector. Choose the norm that best suits your specific application.\n"
      ],
      "metadata": {
        "id": "AQr29TL4a-De"
      }
    },
    {
      "cell_type": "code",
      "source": [
        "vMag = math.sqrt(v[0]**2 + v[1]**2)\n",
        "print (vMag)"
      ],
      "metadata": {
        "colab": {
          "base_uri": "https://localhost:8080/"
        },
        "id": "04k2B97FbKyB",
        "outputId": "007a113b-331a-41e2-b2fa-fb1e6ce63be0"
      },
      "execution_count": null,
      "outputs": [
        {
          "output_type": "stream",
          "name": "stdout",
          "text": [
            "3.605551275463989\n"
          ]
        }
      ]
    },
    {
      "cell_type": "code",
      "source": [
        "vMag = np.linalg.norm(v)\n",
        "print (vMag)"
      ],
      "metadata": {
        "colab": {
          "base_uri": "https://localhost:8080/"
        },
        "id": "PT2yUKnycDjF",
        "outputId": "657c8117-ae07-4772-deff-94d3e78c18d4"
      },
      "execution_count": null,
      "outputs": [
        {
          "output_type": "stream",
          "name": "stdout",
          "text": [
            "3.605551275463989\n"
          ]
        }
      ]
    },
    {
      "cell_type": "markdown",
      "source": [
        "# Eigendecomposition\n",
        "\n",
        "Eigendecomposition is a powerful concept in linear algebra that allows us to break down a square matrix `A` into three matrices: `Q`, `Λ` (Lambda), and the inverse of `Q`.\n",
        "\n",
        "## Definition\n",
        "\n",
        "For a square matrix `A`, if `λ` (lambda) is an eigenvalue and `v` is the corresponding eigenvector, then the eigendecomposition is given by:\n",
        "\n",
        "A = Q Λ Q⁻¹\n",
        "\n",
        "Here:\n",
        "- `Q` is a matrix whose columns are the eigenvectors of `A`.\n",
        "- `Λ` is a diagonal matrix containing the eigenvalues of `A`.\n",
        "- `Q⁻¹` is the inverse of matrix `Q`.\n",
        "\n",
        "## Purpose\n",
        "\n",
        "Eigendecomposition serves several purposes:\n",
        "- **Diagonalization:** It simplifies matrix calculations by transforming `A` into a diagonal form.\n",
        "- **Understanding Transformation:** It provides insights into how a matrix transforms space by revealing the principal directions and magnitudes of transformation.\n",
        "- **Solving Linear Systems:** It can be used to solve systems of linear equations more efficiently.\n",
        "\n",
        "## Calculation\n",
        "\n",
        "To perform eigendecomposition in Python using NumPy, you can use the `numpy.linalg.eig()` function.\n",
        "\n",
        "```python\n",
        "import numpy as np\n",
        "\n",
        "# Given matrix A\n",
        "A = np.array([[a, b], [c, d]])\n",
        "\n",
        "# Calculate eigendecomposition\n",
        "eigenvalues, eigenvectors = np.linalg.eig(A)\n",
        "\n",
        "# Eigendecomposition matrices\n",
        "Q = eigenvectors\n",
        "Lambda = np.diag(eigenvalues)\n",
        "Q_inv = np.linalg.inv(Q)\n"
      ],
      "metadata": {
        "id": "SF1X6TxshC5Q"
      }
    },
    {
      "cell_type": "code",
      "source": [
        "#finding eigen vector and eigen value\n",
        "\n",
        "\n",
        "A = np.array([[3,2],\n",
        "              [1,0]])\n",
        "\n",
        "l, Q = np.linalg.eig(A)\n",
        "print(Q)\n",
        "print(l)"
      ],
      "metadata": {
        "colab": {
          "base_uri": "https://localhost:8080/"
        },
        "id": "hWoRBOQdh3U5",
        "outputId": "aef0795c-9ca4-4dc8-c86a-3987243e9b68"
      },
      "execution_count": null,
      "outputs": [
        {
          "output_type": "stream",
          "name": "stdout",
          "text": [
            "[[ 0.96276969 -0.48963374]\n",
            " [ 0.27032301  0.87192821]]\n",
            "[ 3.56155281 -0.56155281]\n"
          ]
        }
      ]
    },
    {
      "cell_type": "code",
      "metadata": {
        "id": "N-yseN1nizMf",
        "colab": {
          "base_uri": "https://localhost:8080/"
        },
        "outputId": "94b0d3cb-7fdd-4d60-a61e-13d0de122107"
      },
      "source": [
        "#finding the matrix as diagonal value are eigen value\n",
        "L = np.diag(l)\n",
        "print (L)"
      ],
      "execution_count": null,
      "outputs": [
        {
          "output_type": "stream",
          "name": "stdout",
          "text": [
            "[[ 3.56155281  0.        ]\n",
            " [ 0.         -0.56155281]]\n"
          ]
        }
      ]
    },
    {
      "cell_type": "code",
      "metadata": {
        "id": "B577z4VzP8uC",
        "colab": {
          "base_uri": "https://localhost:8080/"
        },
        "outputId": "485fa03f-48a1-45ae-fadc-1974295f1f92"
      },
      "source": [
        "#finding the inverse of Q\n",
        "Qinv = np.linalg.inv(Q)\n",
        "print(Qinv)"
      ],
      "execution_count": null,
      "outputs": [
        {
          "output_type": "stream",
          "name": "stdout",
          "text": [
            "[[ 0.89720673  0.50382896]\n",
            " [-0.27816009  0.99068183]]\n"
          ]
        }
      ]
    },
    {
      "cell_type": "markdown",
      "source": [
        "#Matrices $A$ and $Q Λ Q^-1$ are equivalent"
      ],
      "metadata": {
        "id": "p4gVh4N0jQa8"
      }
    },
    {
      "cell_type": "code",
      "metadata": {
        "id": "7iBnVFEvRqyt"
      },
      "source": [
        "# do the same thing using the QΛQ-1 sequence of operations:\n",
        "import math\n",
        "import numpy as np\n",
        "import matplotlib.pyplot as plt\n",
        "%matplotlib inline\n",
        "\n",
        "t = (Q@(L@(Qinv)))@v\n",
        "\n"
      ],
      "execution_count": null,
      "outputs": []
    },
    {
      "cell_type": "markdown",
      "source": [
        "## Manipulating Matrices\n",
        "Now we can define $A$:"
      ],
      "metadata": {
        "id": "qcRu5h2eRFk0"
      }
    },
    {
      "cell_type": "code",
      "source": [
        "A = np.matrix([[5, 6, 2],\n",
        "               [4, 7, 19],\n",
        "               [0, 3, 12]])"
      ],
      "metadata": {
        "id": "z41dGSNyRjfi"
      },
      "execution_count": null,
      "outputs": []
    },
    {
      "cell_type": "code",
      "source": [
        "A"
      ],
      "metadata": {
        "id": "qKWhAJ3DRm1E",
        "outputId": "0dc34558-63d3-46a0-f501-437cf4021b42",
        "colab": {
          "base_uri": "https://localhost:8080/"
        }
      },
      "execution_count": null,
      "outputs": [
        {
          "output_type": "execute_result",
          "data": {
            "text/plain": [
              "matrix([[ 5,  6,  2],\n",
              "        [ 4,  7, 19],\n",
              "        [ 0,  3, 12]])"
            ]
          },
          "metadata": {},
          "execution_count": 83
        }
      ]
    },
    {
      "cell_type": "code",
      "source": [
        "B = np.matrix([[14, -2, 12],\n",
        "               [4, 4, 5],\n",
        "               [5, 5, 1]])"
      ],
      "metadata": {
        "id": "2ZbMe3LTbzo8"
      },
      "execution_count": null,
      "outputs": []
    },
    {
      "cell_type": "code",
      "source": [
        "B"
      ],
      "metadata": {
        "colab": {
          "base_uri": "https://localhost:8080/"
        },
        "id": "TInl6zSZb4qB",
        "outputId": "b33ceaa1-d818-4538-bab4-a3ce898bd41e"
      },
      "execution_count": null,
      "outputs": [
        {
          "output_type": "execute_result",
          "data": {
            "text/plain": [
              "matrix([[14, -2, 12],\n",
              "        [ 4,  4,  5],\n",
              "        [ 5,  5,  1]])"
            ]
          },
          "metadata": {},
          "execution_count": 85
        }
      ]
    },
    {
      "cell_type": "markdown",
      "source": [
        "We can obtain the following straightforwardly:\n",
        "\n",
        "- $5A$ (or any other scalar multiple of $A$);\n",
        "- $A ^ 3$ (or any other exponent of $A$);\n",
        "- $A + B$;\n",
        "- $A - B$;\n",
        "- $AB$"
      ],
      "metadata": {
        "id": "kRSsBJD1cKx-"
      }
    },
    {
      "cell_type": "code",
      "source": [
        "5 * A\n"
      ],
      "metadata": {
        "colab": {
          "base_uri": "https://localhost:8080/"
        },
        "id": "MM9IPBQUdgOd",
        "outputId": "3efbc511-4820-44d6-bc8f-246ac7a69d45"
      },
      "execution_count": null,
      "outputs": [
        {
          "output_type": "execute_result",
          "data": {
            "text/plain": [
              "matrix([[25, 30, 10],\n",
              "        [20, 35, 95],\n",
              "        [ 0, 15, 60]])"
            ]
          },
          "metadata": {},
          "execution_count": 86
        }
      ]
    },
    {
      "cell_type": "code",
      "source": [
        "A ** 3"
      ],
      "metadata": {
        "colab": {
          "base_uri": "https://localhost:8080/"
        },
        "id": "i4GHwtu7d3NB",
        "outputId": "9b4fb4cd-7fab-4dae-e533-33994e3ce63e"
      },
      "execution_count": null,
      "outputs": [
        {
          "output_type": "execute_result",
          "data": {
            "text/plain": [
              "matrix([[ 557, 1284, 3356],\n",
              "        [ 760, 2305, 6994],\n",
              "        [ 288, 1074, 3519]])"
            ]
          },
          "metadata": {},
          "execution_count": 87
        }
      ]
    },
    {
      "cell_type": "code",
      "source": [
        "A + B"
      ],
      "metadata": {
        "colab": {
          "base_uri": "https://localhost:8080/"
        },
        "id": "6BmlNIJfd50C",
        "outputId": "5670d968-77ca-4f04-b0ef-b7205b46c0c6"
      },
      "execution_count": null,
      "outputs": [
        {
          "output_type": "execute_result",
          "data": {
            "text/plain": [
              "matrix([[19,  4, 14],\n",
              "        [ 8, 11, 24],\n",
              "        [ 5,  8, 13]])"
            ]
          },
          "metadata": {},
          "execution_count": 88
        }
      ]
    },
    {
      "cell_type": "code",
      "source": [
        "A - B"
      ],
      "metadata": {
        "colab": {
          "base_uri": "https://localhost:8080/"
        },
        "id": "C1PR1bjqd9H3",
        "outputId": "b720682b-c534-43d1-b9e0-058f2fbf1a0b"
      },
      "execution_count": null,
      "outputs": [
        {
          "output_type": "execute_result",
          "data": {
            "text/plain": [
              "matrix([[ -9,   8, -10],\n",
              "        [  0,   3,  14],\n",
              "        [ -5,  -2,  11]])"
            ]
          },
          "metadata": {},
          "execution_count": 89
        }
      ]
    },
    {
      "cell_type": "code",
      "source": [
        "A * B\n"
      ],
      "metadata": {
        "colab": {
          "base_uri": "https://localhost:8080/"
        },
        "id": "loYTAzEGd-qa",
        "outputId": "7a5ddc77-5a32-4483-cd3c-54fd608cf57a"
      },
      "execution_count": null,
      "outputs": [
        {
          "output_type": "execute_result",
          "data": {
            "text/plain": [
              "matrix([[104,  24,  92],\n",
              "        [179, 115, 102],\n",
              "        [ 72,  72,  27]])"
            ]
          },
          "metadata": {},
          "execution_count": 90
        }
      ]
    },
    {
      "cell_type": "code",
      "source": [
        "A@B"
      ],
      "metadata": {
        "colab": {
          "base_uri": "https://localhost:8080/"
        },
        "id": "SHkasH3Uj6iM",
        "outputId": "c227715f-b622-422e-a74f-c8e497dcabba"
      },
      "execution_count": null,
      "outputs": [
        {
          "output_type": "execute_result",
          "data": {
            "text/plain": [
              "matrix([[104,  24,  92],\n",
              "        [179, 115, 102],\n",
              "        [ 72,  72,  27]])"
            ]
          },
          "metadata": {},
          "execution_count": 91
        }
      ]
    },
    {
      "cell_type": "markdown",
      "source": [
        "##Linear transformations\n",
        " Linear transformations are operations that transform one vector space into another while preserving the essential properties of the space. In the context of matrices, linear transformations can be represented by multiplication with a transformation matrix."
      ],
      "metadata": {
        "id": "F7InIOLJ5y0c"
      }
    },
    {
      "cell_type": "code",
      "source": [
        "\n",
        "# Define a 2x2 matrix\n",
        "original_matrix = np.array([[1, 2], [3, 4]])\n",
        "\n",
        "# Define a 2x2 transformation matrix\n",
        "transformation_matrix = np.array([[2, 0], [0, 0.5]])\n",
        "\n",
        "# Perform the linear transformation\n",
        "transformed_matrix = np.dot(transformation_matrix, original_matrix)\n",
        "\n",
        "# Plot the original and transformed vectors\n",
        "plt.figure(figsize=(8, 4))\n",
        "\n",
        "# Plot the original vectors\n",
        "plt.subplot(1, 2, 1)\n",
        "plt.quiver([0, 0], [0, 0], original_matrix[0, :], original_matrix[1, :], angles='xy', scale_units='xy', scale=1, color=['blue', 'green'])\n",
        "plt.title('Original Matrix')\n",
        "\n",
        "# Plot the transformed vectors\n",
        "plt.subplot(1, 2, 2)\n",
        "plt.quiver([0, 0], [0, 0], transformed_matrix[0, :], transformed_matrix[1, :], angles='xy', scale_units='xy', scale=1, color=['blue', 'green'])\n",
        "plt.title('Transformed Matrix')\n",
        "plt.xlim(0, 10)  # Adjust the x-axis limit according to your data\n",
        "plt.ylim(0, 10)  # Adjust the y-axis limit according to your data\n",
        "plt.xlabel('X-axis')\n",
        "plt.ylabel('Y-axis')\n",
        "# Plot the original vectors\n",
        "plt.subplot(1, 2, 1)\n",
        "plt.quiver([0, 0], [0, 0], original_matrix[0, :], original_matrix[1, :], angles='xy', scale_units='xy', scale=1, color=['blue', 'green'])\n",
        "plt.title('Original Matrix')\n",
        "\n",
        "# Set axis limits and labels\n",
        "plt.xlim(0, 10)  # Adjust the x-axis limit according to your data\n",
        "plt.ylim(0, 10)  # Adjust the y-axis limit according to your data\n",
        "plt.xlabel('X-axis')\n",
        "plt.ylabel('Y-axis')\n",
        "\n",
        "\n",
        "# Show the plots\n",
        "plt.tight_layout()\n",
        "plt.show()\n"
      ],
      "metadata": {
        "colab": {
          "base_uri": "https://localhost:8080/",
          "height": 407
        },
        "id": "T0-4AZC6kkF9",
        "outputId": "8dcb32e6-3b32-4fc5-ee33-8caca0ac0b9b"
      },
      "execution_count": null,
      "outputs": [
        {
          "output_type": "display_data",
          "data": {
            "text/plain": [
              "<Figure size 800x400 with 2 Axes>"
            ],
            "image/png": "[encoded data removed]"
          },
          "metadata": {}
        }
      ]
    },
    {
      "cell_type": "markdown",
      "source": [
        "Magnitude Transformation:\n",
        "\n",
        "To perform a magnitude transformation, we can scale the magnitude of the vector while keeping its direction constant."
      ],
      "metadata": {
        "id": "psgdIbdx9T9u"
      }
    },
    {
      "cell_type": "code",
      "source": [
        "\n",
        "# Define a 2D vector\n",
        "v = np.array([3, 4])\n",
        "\n",
        "# Magnitude Transformation (Scaling by 2)\n",
        "v_magnitude_transformed = 2 * v\n",
        "\n",
        "# Plot original and transformed vectors\n",
        "plt.figure(figsize=(8, 4))\n",
        "\n",
        "# Plot the original vector\n",
        "plt.subplot(1, 2, 1)\n",
        "plt.quiver(0, 0, v[0], v[1], angles='xy', scale_units='xy', scale=1, color='blue')\n",
        "plt.title('Original Vector')\n",
        "plt.xlabel('X-axis')\n",
        "plt.ylabel('Y-axis')\n",
        "plt.xlim(0, 8)\n",
        "plt.ylim(0, 8)\n",
        "\n",
        "# Plot the magnitude-transformed vector\n",
        "plt.subplot(1, 2, 2)\n",
        "plt.quiver(0, 0, v_magnitude_transformed[0], v_magnitude_transformed[1], angles='xy', scale_units='xy', scale=1, color='green')\n",
        "plt.title('Magnitude Transformed Vector (Scaled by 2)')\n",
        "plt.xlabel('X-axis')\n",
        "plt.ylabel('Y-axis')\n",
        "plt.xlim(0, 8)\n",
        "plt.ylim(0, 8)\n",
        "\n",
        "plt.tight_layout()\n",
        "plt.show()\n"
      ],
      "metadata": {
        "colab": {
          "base_uri": "https://localhost:8080/",
          "height": 407
        },
        "id": "Dk-7-jDQ7cEB",
        "outputId": "c75e529b-c336-447e-e9dd-35789983b3ff"
      },
      "execution_count": null,
      "outputs": [
        {
          "output_type": "display_data",
          "data": {
            "text/plain": [
              "<Figure size 800x400 with 2 Axes>"
            ],
            "image/png": "[encoded data removed]"
          },
          "metadata": {}
        }
      ]
    },
    {
      "cell_type": "markdown",
      "source": [
        "Direction Transformation:\n",
        "\n",
        "For a direction transformation, we can rotate the vector while keeping its magnitude constant."
      ],
      "metadata": {
        "id": "t4am9bGK9ru_"
      }
    },
    {
      "cell_type": "code",
      "source": [
        "import numpy as np\n",
        "import matplotlib.pyplot as plt\n",
        "\n",
        "# Define a 2D vector\n",
        "v = np.array([3, 4])\n",
        "\n",
        "# Direction Transformation (Rotation by 90 degrees)\n",
        "theta = np.radians(90)\n",
        "rotation_matrix = np.array([[np.cos(theta), -np.sin(theta)], [np.sin(theta), np.cos(theta)]])\n",
        "v_direction_transformed = np.dot(rotation_matrix, v)\n",
        "\n",
        "# Plot original and transformed vectors\n",
        "plt.figure(figsize=(8, 4))\n",
        "\n",
        "# Plot the original vector\n",
        "plt.subplot(1, 2, 1)\n",
        "plt.quiver(0, 0, v[0], v[1], angles='xy', scale_units='xy', scale=1, color='blue')\n",
        "plt.title('Original Vector')\n",
        "plt.xlabel('X-axis')\n",
        "plt.ylabel('Y-axis')\n",
        "plt.xlim(-8, 8)\n",
        "plt.ylim(-8, 8)\n",
        "\n",
        "# Plot the direction-transformed vector\n",
        "plt.subplot(1, 2, 2)\n",
        "plt.quiver(0, 0, v_direction_transformed[0], v_direction_transformed[1], angles='xy', scale_units='xy', scale=1, color='orange')\n",
        "plt.title('Direction Transformed Vector (Rotated by 90 degrees)')\n",
        "plt.xlabel('X-axis')\n",
        "plt.ylabel('Y-axis')\n",
        "plt.xlim(-8, 8)  # Adjusted xlim to see the full transformation\n",
        "plt.ylim(-8, 8)  # Adjusted ylim to see the full transformation\n",
        "\n",
        "plt.tight_layout()\n",
        "plt.show()\n"
      ],
      "metadata": {
        "colab": {
          "base_uri": "https://localhost:8080/",
          "height": 407
        },
        "id": "42ozcLyq9vCE",
        "outputId": "bb3ca633-4b74-4fd4-844f-fa1d2b7e1249"
      },
      "execution_count": null,
      "outputs": [
        {
          "output_type": "display_data",
          "data": {
            "text/plain": [
              "<Figure size 800x400 with 2 Axes>"
            ],
            "image/png": "[encoded data removed]"
          },
          "metadata": {}
        }
      ]
    },
    {
      "cell_type": "markdown",
      "source": [
        "Affine Transformation:\n",
        "\n",
        "An affine transformation combines both magnitude and direction transformations and includes translations."
      ],
      "metadata": {
        "id": "PthKjtVI9vl0"
      }
    },
    {
      "cell_type": "code",
      "source": [
        "# Affine Transformation\n",
        "affine_matrix = np.array([[2, 1], [0, 1]])\n",
        "v_affine_transformed = np.dot(affine_matrix, v)\n",
        "\n",
        "# Plot original and transformed vectors\n",
        "plt.figure(figsize=(8, 4))\n",
        "\n",
        "# Plot the original vector\n",
        "plt.subplot(1, 2, 1)\n",
        "plt.quiver(0, 0, v[0], v[1], angles='xy', scale_units='xy', scale=1, color='blue')\n",
        "plt.title('Original Vector')\n",
        "plt.xlabel('X-axis')\n",
        "plt.ylabel('Y-axis')\n",
        "plt.xlim(0, 15)\n",
        "plt.ylim(0, 15)\n",
        "\n",
        "# Plot the affine-transformed vector\n",
        "plt.subplot(1, 2, 2)\n",
        "plt.quiver(0, 0, v_affine_transformed[0], v_affine_transformed[1], angles='xy', scale_units='xy', scale=1, color='purple')\n",
        "plt.title('Affine Transformed Vector (Scaled and Translated)')\n",
        "plt.xlabel('X-axis')\n",
        "plt.ylabel('Y-axis')\n",
        "plt.xlim(0, 15)\n",
        "plt.ylim(0, 15)\n",
        "\n",
        "plt.tight_layout()\n",
        "plt.show()\n"
      ],
      "metadata": {
        "colab": {
          "base_uri": "https://localhost:8080/",
          "height": 407
        },
        "id": "qEzl_x5H9wIe",
        "outputId": "78b133c6-0f4d-445f-9218-71ca4c310577"
      },
      "execution_count": null,
      "outputs": [
        {
          "output_type": "display_data",
          "data": {
            "text/plain": [
              "<Figure size 800x400 with 2 Axes>"
            ],
            "image/png": "[encoded data removed]"
          },
          "metadata": {}
        }
      ]
    },
    {
      "cell_type": "markdown",
      "source": [],
      "metadata": {
        "id": "Ja93kb7O9tGT"
      }
    },
    {
      "cell_type": "code",
      "source": [
        "A = np.matrix([[5, 6, 2],\n",
        "               [4, 7, 19],\n",
        "               [0, 3, 12]])\n",
        "b = np.matrix([[-1], [2], [1]])"
      ],
      "metadata": {
        "id": "8kYNuBhleaQL"
      },
      "execution_count": null,
      "outputs": []
    },
    {
      "cell_type": "markdown",
      "source": [
        "---\n",
        "\n",
        "**EXERCISE** Compute $A ^ 2 - 2 A + 3$ with:\n",
        "\n",
        "$$A =\n",
        "\\begin{pmatrix}\n",
        "1 & -1\\\\\n",
        "2 & 1\n",
        "\\end{pmatrix}\n",
        "$$\n",
        "\n",
        "---\n",
        "\n",
        "## Solving Matrix equations\n",
        "\n",
        "We can use Numpy to (efficiently) solve large systems of equations of the form:\n",
        "\n",
        "$$Ax=b$$\n",
        "\n",
        "Let us illustrate that with:\n",
        "\n",
        "$$\n",
        "A = \\begin{pmatrix}\n",
        "5 & 6 & 2\\\\\n",
        "4 & 7 & 19\\\\\n",
        "0 & 3 & 12\n",
        "\\end{pmatrix}\n",
        "$$\n",
        "\n",
        "$$\n",
        "b = \\begin{pmatrix}\n",
        "-1\\\\\n",
        "2\\\\\n",
        "1\n",
        "\\end{pmatrix}\n",
        "$$"
      ],
      "metadata": {
        "id": "vTZweCNoeYTi"
      }
    },
    {
      "cell_type": "markdown",
      "metadata": {
        "id": "b0t0aJuQWJRl"
      },
      "source": [
        "We use the `linalg.solve` command:"
      ]
    },
    {
      "cell_type": "code",
      "execution_count": null,
      "metadata": {
        "id": "ARseDdZhWJRm",
        "outputId": "361770e6-5703-4939-c420-fc183b7ab87b",
        "colab": {
          "base_uri": "https://localhost:8080/"
        }
      },
      "outputs": [
        {
          "output_type": "execute_result",
          "data": {
            "text/plain": [
              "matrix([[ 0.45736434],\n",
              "        [-0.62790698],\n",
              "        [ 0.24031008]])"
            ]
          },
          "metadata": {},
          "execution_count": 97
        }
      ],
      "source": [
        "x = np.linalg.solve(A, b)\n",
        "x"
      ]
    },
    {
      "cell_type": "markdown",
      "metadata": {
        "id": "o-Sx6c3_WJRn"
      },
      "source": [
        "---\n",
        "\n",
        "**EXERCISE** Compute the solutions to the matrix equation $Bx=b$ (using the $B$ defined earlier).\n",
        "\n",
        "---\n",
        "\n",
        "## Matrix inversion and determinants\n",
        "\n",
        "Computing the inverse of a matrix is straightforward:"
      ]
    },
    {
      "cell_type": "code",
      "execution_count": null,
      "metadata": {
        "id": "ogPS5AWjWJRn",
        "outputId": "5da85228-5c92-449d-d22f-8900b7546101",
        "colab": {
          "base_uri": "https://localhost:8080/"
        }
      },
      "outputs": [
        {
          "output_type": "execute_result",
          "data": {
            "text/plain": [
              "matrix([[-0.20930233,  0.51162791, -0.7751938 ],\n",
              "        [ 0.37209302, -0.46511628,  0.6744186 ],\n",
              "        [-0.09302326,  0.11627907, -0.08527132]])"
            ]
          },
          "metadata": {},
          "execution_count": 98
        }
      ],
      "source": [
        "Ainv = np.linalg.inv(A)\n",
        "Ainv"
      ]
    },
    {
      "cell_type": "markdown",
      "metadata": {
        "id": "fgyVy71qWJRo"
      },
      "source": [
        "We can verify that $A^{-1}A=\\mathbb{1}$:"
      ]
    },
    {
      "cell_type": "code",
      "execution_count": null,
      "metadata": {
        "tags": [
          "nbval-ignore-output"
        ],
        "id": "dVdK6nfSWJRo",
        "outputId": "df3f781c-5570-412b-aa8e-d2aeac015826",
        "colab": {
          "base_uri": "https://localhost:8080/"
        }
      },
      "outputs": [
        {
          "output_type": "execute_result",
          "data": {
            "text/plain": [
              "matrix([[ 1.00000000e+00,  4.99600361e-16, -4.71844785e-16],\n",
              "        [ 1.38777878e-16,  1.00000000e+00, -2.63677968e-16],\n",
              "        [ 1.11022302e-16,  1.11022302e-16,  1.00000000e+00]])"
            ]
          },
          "metadata": {},
          "execution_count": 99
        }
      ],
      "source": [
        "A * Ainv"
      ]
    },
    {
      "cell_type": "markdown",
      "metadata": {
        "id": "OlC6f12WWJRp"
      },
      "source": [
        "To calculate the determinant:"
      ]
    },
    {
      "cell_type": "code",
      "execution_count": null,
      "metadata": {
        "tags": [
          "nbval-ignore-output"
        ],
        "id": "vez4KhMYWJRq",
        "outputId": "21c1cca5-1e29-46bf-a7a6-7f45f424f026",
        "colab": {
          "base_uri": "https://localhost:8080/"
        }
      },
      "outputs": [
        {
          "output_type": "execute_result",
          "data": {
            "text/plain": [
              "-129.00000000000009"
            ]
          },
          "metadata": {},
          "execution_count": 100
        }
      ],
      "source": [
        "np.linalg.det(A)"
      ]
    },
    {
      "cell_type": "markdown",
      "source": [
        "# **Solving a Practical Problem: Building a Meal Plan**\n",
        "\n",
        "One sort of problem that you would generally solve with linear systems is when you need to find the proportions of components needed to obtain a certain mixture. Below, you’re going to use this idea to build a meal plan, mixing different foods in order to get a balanced diet.\n",
        "\n",
        "For that, assume that a balanced diet should include the following:\n",
        "\n",
        "\n",
        "   \n",
        "\n",
        "*    170 units of vitamin A\n",
        "*   180 units of vitamin B\n",
        "*    140 units of vitamin C\n",
        "*    180 units of vitamin D\n",
        "*    350 units of vitamin E\n",
        "\n",
        "Our task is to find the quantities of each different food in order to obtain the specified amounts of the necessary vitamins. In the following table, you have the results of analyzing one gram of each food in terms of units of each vitamin:\n",
        "\n",
        "|          | Vitamin A | Vitamin B | Vitamin C | Vitamin D | Vitamin E |\n",
        "|----------|-----------|-----------|-----------|-----------|-----------|\n",
        "| Food1    | 1        | 10        | 1        | 2         | 2        |\n",
        "| Food2    | 9         | 1        | 0        | 1        | 1        |\n",
        "| Food3    | 2         | 2         | 5         | 1        | 2        |\n",
        "| Food4    | 1         | 1      | 1        | 2        | 13        |\n",
        "| Food5    | 1         | 1         | 1         | 9        | 2        |"
      ],
      "metadata": {
        "id": "eROUc9YbkERE"
      }
    },
    {
      "cell_type": "markdown",
      "source": [
        "\n",
        "```\n",
        "# This is formatted as code\n",
        "\n",
        "```\n",
        "$$\n",
        "x1 + 9x2 +  2x3 +  x4 +  x5 = 170 \\\\\n",
        "10x1 + x2 +  2x3 + x4 +  x5 = 180\\\\\n",
        "x1 +  5x3 +  x4 +  x5 = 140 \\\\\n",
        "2x1 + x2 +  x3 +  2x4 +  9x5 = 180\\\\\n",
        "2x1 + x2 +  2x3 +  x4 +  2x5 = 350\\\\\n",
        "$$\n",
        "\n",
        "\n"
      ],
      "metadata": {
        "id": "t8P7CBv_rd6h"
      }
    },
    {
      "cell_type": "markdown",
      "source": [
        "# **$Ax=b$**\n",
        "\n",
        "\n",
        "$A$ = \\begin{bmatrix}\n",
        "    1 & 9 & 2 & 1 & 1 \\\\\n",
        "    10 & 1 & 2 & 1 & 1 \\\\\n",
        "    1 & 0 & 5 & 1 & 1 \\\\\n",
        "    2 & 1 & 1 & 2 & 9 \\\\\n",
        "    2 & 1 & 2 & 13 & 2\n",
        "\\end{bmatrix}\n",
        "\n",
        "$x$ = \\begin{bmatrix} x_1 \\\\ x_2 \\\\ x_3 \\\\ x_4 \\\\ x_5 \\end{bmatrix}\n",
        "$b$ = \\begin{bmatrix} 170 \\\\ 180 \\\\ 140 \\\\ 180 \\\\ 350 \\end{bmatrix}\n"
      ],
      "metadata": {
        "id": "qtC-o8NCmX39"
      }
    },
    {
      "cell_type": "code",
      "source": [
        " A = np.array([\n",
        "\n",
        "            [1, 9, 2, 1, 1],\n",
        "            [10, 1, 2, 1, 1],\n",
        "            [1, 0, 5, 1, 1],\n",
        "            [2, 1, 1, 2, 9],\n",
        "            [2, 1, 2, 13, 2],\n",
        "\n",
        "    ])\n",
        " A"
      ],
      "metadata": {
        "colab": {
          "base_uri": "https://localhost:8080/"
        },
        "id": "65WWuS5KkmKe",
        "outputId": "e93018e9-8fd5-44d2-a88d-7da9db58d7c0"
      },
      "execution_count": null,
      "outputs": [
        {
          "output_type": "execute_result",
          "data": {
            "text/plain": [
              "array([[ 1,  9,  2,  1,  1],\n",
              "       [10,  1,  2,  1,  1],\n",
              "       [ 1,  0,  5,  1,  1],\n",
              "       [ 2,  1,  1,  2,  9],\n",
              "       [ 2,  1,  2, 13,  2]])"
            ]
          },
          "metadata": {},
          "execution_count": 101
        }
      ]
    },
    {
      "cell_type": "code",
      "source": [
        " b = np.array([170, 180, 140, 180, 350])\n",
        " print(b)\n",
        " b=b.reshape((5, 1))\n",
        " print(b)"
      ],
      "metadata": {
        "colab": {
          "base_uri": "https://localhost:8080/"
        },
        "id": "3UVfx-NHlVjg",
        "outputId": "86967c0b-dc4c-4707-8599-f69bb3675911"
      },
      "execution_count": null,
      "outputs": [
        {
          "output_type": "stream",
          "name": "stdout",
          "text": [
            "[170 180 140 180 350]\n",
            "[[170]\n",
            " [180]\n",
            " [140]\n",
            " [180]\n",
            " [350]]\n"
          ]
        }
      ]
    },
    {
      "cell_type": "code",
      "source": [
        "x = np.linalg.solve(A, b)\n",
        "x"
      ],
      "metadata": {
        "colab": {
          "base_uri": "https://localhost:8080/"
        },
        "id": "tE5SeKdZlpQY",
        "outputId": "fa59cea7-d870-4faf-f33f-0b4a63f219bd"
      },
      "execution_count": null,
      "outputs": [
        {
          "output_type": "execute_result",
          "data": {
            "text/plain": [
              "array([[10.],\n",
              "       [10.],\n",
              "       [20.],\n",
              "       [20.],\n",
              "       [10.]])"
            ]
          },
          "metadata": {},
          "execution_count": 103
        }
      ]
    },
    {
      "cell_type": "markdown",
      "source": [
        "##Using Matrix Inverses to Solve Linear Systems\n",
        "$Ax = b$ \\\n",
        "By calling A⁻¹ the inverse of matrix A, you could multiply both sides of the equation by A⁻¹, which would give you the following result:\n",
        "\n",
        "$A^{-1} A x = A^{-1} b$<br>\n",
        "$Ix = A^{-1} b$ <br>\n",
        "$x = A^{-1} b$\n"
      ],
      "metadata": {
        "id": "pZ-idTeyqxw8"
      }
    },
    {
      "cell_type": "code",
      "source": [
        "A_inv = np.linalg.inv(A)\n",
        "x = A_inv @ b\n",
        "x"
      ],
      "metadata": {
        "colab": {
          "base_uri": "https://localhost:8080/"
        },
        "id": "4VN9NjL9sxXp",
        "outputId": "1263721f-5633-4d99-80d2-52e60082eda8"
      },
      "execution_count": null,
      "outputs": [
        {
          "output_type": "execute_result",
          "data": {
            "text/plain": [
              "array([[10.],\n",
              "       [10.],\n",
              "       [20.],\n",
              "       [20.],\n",
              "       [10.]])"
            ]
          },
          "metadata": {},
          "execution_count": 104
        }
      ]
    },
    {
      "cell_type": "markdown",
      "source": [
        "We get exactly the same solution as the one provided by `np.linalg.solve()`. Because this system has a unique solution, the determinant of matrix A must be different from zero. We can confirm that it is by calculating it using `np.linalg.det()`:\n"
      ],
      "metadata": {
        "id": "tqP1YqOls_CM"
      }
    },
    {
      "cell_type": "markdown",
      "source": [
        "## Interpolating Polynomials With Linear Systems\n",
        "\n",
        "Consider the second-degree polynomial y = P(x) = a₀ + a₁x + a₂x²\n",
        "when we plot a second-degree polynomial, we get a parabola, which will be different depending on the coefficients a₀, a₁, and a₂.\n",
        "\n",
        "![scipy-linalg-poly-int-ex-plot-g.webp](data:image/webp;base64,UklGRk4jAABXRUJQVlA4TEEjAAAvv8OzAFWP4rZtI2v/sXMn7T8iJkDCSrhaDDOHCSh7D2SOxkRvhk5l0exYtbSZqX6n0+jPWphtezZHk2ZzzjnnnPMq55xzzjmniZt3/805r3KczftvznE272zOOeeccwTv+32urvb3dX3vo5VNGm2yjDZZBdxoUstoU6My8gargI02tQpYk4zaaFOj1qZGNrAmGdlok5E3NpoCrUmNrI1okrXJqApYJo1aBmcjE2uSkfVJ1o9MLINqZNKaZNTIjTa1DKrRpFYjkx/5RyZWAWtTIxtNamQjE6tAy6SRC5RMftSa9CO/wBuNukBpklFrUyMTy6RRqyWr0aTWpkLeYE1q1CrJGrTJMmk0yTIysQrUj0x+GVSjSZbRJusC/tEky+CTiZEbmTSy0WQDa1KjMtpkZE0ycgFr049sNKlRy+RHXaA1qZBlqdRokjWp0STLpFHLUsnIpOUNRpOsRpsL2GhSK6L/EyAn/n9XVi452sgYuFRboeQlGWQPWHoyyHSZfQJ277kzd8/M/c9/TeCGnvqWTwDZwjH0bNBh6VVY+Hfc2ZaKWQl0VBn6HI8g1sDbkiADA2sGAVshIYOHbAUHxxAa3tAjgHI1/Pu1gRcU0FMxCMgogR4NcQcjGEBDPgJwgAZGka3IebeAAkZrMDIgJfsNTdmj/xPwI0v5v5T/S/m/lP9L+R+Fv7r+DCVrdmGVktPCXmTPhBaWnKIWcdZsVFQp/5XyXyn/lfLfj4Lr+3/u9/FGXskrfKMf8ftaPvz12N+ASfUp4Q2967e7jdf/nW3e4nu1fnYDZYaN8xGTW2b8aGX06d//N5H0Hd4E797m0yqsTY+kNmSPy/lTVWO0iHw8fkVCP9hgqSYO7R1XZZUJKQbLbi1ak9XX5eX8IMt7/qDv90pfzTiZ3pSQspJ6X7xjWWzfZaxhcl6LR3L6gi8j4WtJ+owf++t/v2/7mV4T78yrKNuQ0WF8GCl9g1fBx5eXKa+Kr2CWFHwUZLTytfIh5PX18uG8sY8yOowPI6HvOo73/iO8++S8b7PkvI9IPt/nTfMufpi8/+h8cLOk2P0UUlY68W+dmsny3n1z3LBZMpFeqZ1PoMayiX7nvOVM2aftHC8p9jxefaZR0kKbI86uveOcdPpAXH3bNH1LXmlu5bfdhFf+5WWSlB8TnUmESqNqOZZOAZ5Lq3i/t7oulNjiQ347GSUTIKK1bCNTMJHlIIa7cGtwzOYV0XBKHGTjiE8PoHUqnNXFM3nHWV6BN4tupNjw+pqvIOobG13f/XVAgx9icEXXhJf5xWRwfSjgo8ng+lzARNfg+obbYFyxzK0F42DbN5K55cYBG2VwfSngQ8vk0kWv6O1Fm136ehtkeO2IDSB3o2t4nc67ijW6mubA+zG5vvlyGPZdDK6kKVD7a8jccisDTymD6yTg/mRwfaFUmPFDDa7Nrwxe5wYZXB8QEr+OTK7o6+dzyOiS7kCmV0nR2KnxRQyvTmVyPoZrckW/feBGTa7rAB9BBtdNA+/0hxtcdzAC3sACmVsbukD3s2Vu5b9NSL01GVwfBPioMrg6NYB355pc+m6r32SmjC5ltZPhVbI1a9wb/GaG10fmVX4Jo+vzACe7Bte9LITXvUHm1swGsK2GzK2s1ZD6BWRwPRzwGDK4OgDvwTW4vszLhro/QAbXlWvTuoJMLn31JV9JZpfyZXqVvE2Yzzkt0+z6fbU5oafJlbIOuv9lgyvvzcDLaipzy323wCeWwdUG+AAyuC4C2mYZXF+1Nrze7yFzK+Y1wuizZXBF3xWFX1wml/SpP5kML59orsSYXl9lxMdxja4KrwHqmFyZbwoKv6TBFbwAuFgG1yTgA8ng+izA28k3uL7yy4fX10nm1reqAss3y+AqB9WqyuRK25VPI6NL8Tctw8vXGiZP900Nr6+9sPyXNbq+42uBJrEGV+YRkLNd5lbwAuATyOC6IeDhXIMrAzgsX+bWn0uAFt9Lhk/eZ3uPjbYlDOp20+6O4Ozl8GpLy/DJqILHS2PD360VEbpcpk9/aPCQj9x+CtA3/OmBB31WmT9v5ZqS5P5PoGLwFCvz5zfL4xxoGSzX4rsdMMVnNc99NQm1G0zrF26Kz2qem51Qu8G0fuGn+KzmudkJtRtM67fj8nIg/M9ADZiY6WibWoTnh3TDx9QiPD+kG06mFuH5Id2SQbALfP4gHRrizcY42Trzct9S8zYf6f0tAT5J+OhM+ormbQbvtgS4RjjpTPqK5m0G77YEuEbJYDB0yQ/Q5iZQ/mwn21MemCSrOzeVqPDxlAcmyerOTSUqnDzlgUmyunNTidpB+hOGry0sPhGEhiu4aUsgfb2cbN6uhvhw4e1qiA8f3q6G+B3dY0D6doXfyLcAfGY55J4XNoSz54UN4e15YcMOMeBjheGnKLGlUPsLK/wGBwJ/WE635N4HXnx6165dh1GYH06Sex948eldu3YdRmF+eEnufeDFp3ft2nUYhfk7RLgcnkrR0ykcHwW8T9fhVvE9jcBzGdl+hobbtjW8+7CrOHQEnsvI+pf7DB2XQ8YOUHHoCDyXkaSsfh/siAvTO+75JDuCOPh4CscnAjOy5GxrU4i3fW12o3a3brV5uLBqU4i3fW2GYN0B2hTibV9LP5je7YJGFP7i8DcPYsJR2UKYcoqcbW0gYc8Bz7EgX7phGGy5adZ9C2nRdDaGTRtI2HPAcyzIl86EwTZzr2/A5newA7SBhD0HPMeCfOlMGGx5uguGS3L7UO0vezegaxieWEL7QjAcBe+KQd9GzrYjq7G8t+wXw+Nb5nCmJN09R4TJkdVY3lv2i+HxbazvMOyOrMby3rJfDI9v8fy2GOxdf8JwXgmNAIXrT9pbflfmxsVTtiWubRNrt/MRI5afPNzB8MjQR/ZJo6GCpLGEIi156VQIi0eGPrJPGg0VwsMjQx/ZJ42GCt6dy0OGu9W5ueHLLwx3c6FF5ZrbGBdj2UTtZTWrFc5yLkyD+R4K4FVL0udljmxP4PHDYhrM91AAxyg8TIP5HgrgGHlfjgLvSq756/21nZtvlpRyAs8r6eloslman969lmNhGRxk1zQBZlg+IeXs3gmVwmIZHGTXNAFmhItlcJBd0wSY4d3UhNRVJS13t9TGfprH+YSSpcelsSS153THwovDZUmSoi8uAl7c8lE4xG5P/rAlA+Z58+JwWZKk6IuLgBcPowyY582Lw2VJkqIvLgJe3KvMN857U7gHSoePrkCGX5cJKYoMsdKynv6OhRqFMP2Z9364BrzmofBTLZcwdAepUQjTn3nvh2vAXkPhp4aLGoUw/Zn3frgG7DUUfqo30eV4w7ElrYuAN5/n190LCfEaT7asSSx3LKhSKra7LpoId2qZQDm7ZVSydIYu3qhSKra7LpoIdxpGnaGLN6qUiu2uiybCnXoRPIclKSpZzQ9Bgxj5dbdNN+lwTrDRaIodC6p62OjQa79glqtxJAYth3OZ3Rwe33J/sJ9XqnrY6NDWC2a5GkdiMIzuD/bzSlUPGx3aesEsV+NIDHpyfzRbx6pkdeQxsPxO5dfdWmrCKukpGWO3jhQvomxDeCAMxxKKtESGWGk5jcQY78Lcq9NIjPEujHdjr0UqWaeVgfRry6+rsZw+ks5khd10R4UO5qdanpK6kpRUjdkKZ0nVmK0dvj2DNqtknXkFcKb8upXDqCNJh3OC3WiKvbCPwgwD2Ku0VHovDrL0I9QsvPUj1GyH248La6hkHV0OuER+Xdo4RrqW8WTbJDFaTgrdNolnnJHIbrJOorl2+N+Xm5s7mi65ueUsk2iuHfxwaFjf9qSS0HcqAw/p+nXFdekbLWteiJWW9RzgrNCny1248IqdFY6/NB7nWcJlBp77l4SUdsX/y5c/F7+amsmyP5nGlvZ8TIeF35+XJH8uOo5dM+WxH002S/ND+25wzLkWfzPc9YG4+rZpkoaQuOzkajkHySk3tW49/68Az6UlKeOyxO41v5ycchU6csxv9vvCrTNtwVrIuQWDK/l4oKXMLfccYD8ZXDcG7Bk0uH4xsDpe5tbj58BxnWRupS2EdWNlcOk+i7ZVlNGl4U8nw8uPNSCyfnG02eVelcqRRtc/BNqYXNcFDog0uC5KheM6ydyqmg4dK8jcWrUvlK8hc6t0a6g9X+bWzEZQ+PlkcEX2hU8lk0vRzR9ZZpdc1+DqafGPTYVKRYebXTedSs5FJtdV0qHjSoOr976wvIbMrXoXQtFwmVspDaDw8WVudVoL7CxzK3MFsFQGV41j4CiZXDp73o92zS7F5Mvcyrf43UbBlitmml2zcjh/pcl1lRAMWmRw9d4Go+9A5tbmC6H2oTK3mm2Fwu0yt2odB/xemVtJY4CPK4Pr9wL/UCaXTue2XbNL/aJlePnz+G/v0w2vlvBhXJPr7oFGCwyuwwuhY0+ZW1VDkH22zK2rLYTuvWVuTS0PtQ+VufU3BkHCQ8jg6gY5F8nkmnkEc2V0qXiADK+dijgv6+g7Nbui3w3ZFU2u4FWBkQaX+3DAYfHmlvviQP9MmVuPDOQWy9z6CcAbqyVzqwPQK0bm1th0aFBBBpcOT1+3SEaX+t2pDK+doIjuNz9ztNm1ajQDs0yuGtmQcDWD68jpUDhL5tbvGAapTylza2UDYK7MrZQyQEuZWzHnA0tlcN0V8IdlciVPpEBGl/IHuIbXTlzklvn/+pldkTMI3ZrJlfz/gKMNrqxywPNGm1v5rYCJ+TK2oocC3ZJlbAUXA4fFy9gKHg20zZO5Vbo87Jokg0vjy48pltGl5yiWseXmWXY6IzS3fY8FRpc7BBouMLjc2cARncwttw5Qt5OMLff+gMtqydhyzwXm1JKx5e4HHLxBxpb7D4GDZ8rgenHYY6YMLrn7TUlTxEfZk+KmE7IrwH4/p5DcWEWALAO8GVPfepEDyJ1v2WkevMeY9PhrvMlQWDtu3HO5OMLE6jxyNwEXGVxue+DgtIiZc4ac98hlHT/BqwNzNihixnZirLMneB5wRC1FyNz96c+RtPIp11HOqyjbEKIJ3jaQ20kRM/YpTRju4Im+KtBjgSJ0dH9M8sY+Cs9cB1hRrAieDhzt4GlWhgNiFdHzGGxy8GjlyCRF9Li5nOnk2em/o0rbOV5S7Hm0znTmJD9zzwiZ7bm5uaTm5uZuV2n2za08owmjD5UjJ/4MuoyNiMnAY4aK9+u/LpTY4q4qyJGTdzLwcBEx4dUBk/Q2gGXJ5taCFcDEZBlbtU4DDsmXsdXuYOBHR8vYSokCHi4oc+s+U+H+XBlcmsuHdWV0qawiEB1XK11LhKLTavwx7V2j62qj4R+aXL9iGxT+VIPr6RIhYZbMrT9RBKFbk7l1UQIkXlPm1q/NgW3rZW7dAlD+gWVw5b01Wt+LTC4VV64nsyviEkNl3fZwsyuyG93Hm1yxuwPTDK5aVwDLIs2tNXsAh2TJ2OrZCNgtKGNr8zDgxV0ZW3dQBdjblbn1wCOgkiI8UZP61f7XMrs0WebWQUmWCFGkVK5yWLLJlb9CMMTIsuPcuGWiyXaViF49Dayk7lY6tcvpdGeguu1kXlVj7X0socUysHZr74qu6zKwikpAa/U/DKzzWvznGFjGxz8wsAo+rmZgGR//wMA67+PnmFf5puacQup/GFelXeSErgg0hkyr1d+JHOl3aO84Z1otbSOixTO0ptKoWo4Nq9tPiGh9O7ONTMFElkEVBZ1qJaJNeQZaDOTmAie5MrfUc93LylDELQrSvWyXseXGWCJ2kU/W4q0pRlfsybDHKQbX5DnAilrm1l/eCkzMk7F1aHlgSLSMrYNCwE9QBDDamZAK6WfJ3LrTQhh9bRlc2sKw55DRpQ7NZGyl5FsijhHO+EEP6RpdTbfB3iZXRjUonGtuufsDibcmYyt+T6DKk8jYmrkrEFVaxla9MkDbTjK3PjAwMlkGV/K1uMSVyaVasxQRjWSy5lsiqHHMKZcm3IjR1fM4WF7P4CrbGmgVaW6dmggcFZSp5S5NhcITFYGNXbKOBrZ9URlbG3YH5t2LzK0Kg6BHjAwuPUntQyJldOk5XJla0YObWSLA0UrsGVyWaXKN3QN4cYPrgVsD3YrNrYuKgLuKlqnlXgJUm6uIcoSSOQ1YXlXGVrAHUOZsmVvaAsdvkMmlIdXzZWpFJ1uCilhHJac87mJXEe+YpN750MfkuuZyYKJrbLmVCoEbC8rUSn5IoGiAIuKRSNoBwLqyMrYqbgVyU2RuDQHeS6QCJGVPiptOyNPOR4xYfvLwwF/yitSurgIlywAvNlF7Wc1qhbMCfpq8iyLug/cYkx5/jaeno8lmaX5691oBvKlnWiL0g2f19Lg0lqT2nB64u/KIausDOJEhVlrW0z9QF9wfaJ0UuBlPtqxJLA/QnfKOgH0fX4GbwznBRqMpDsjdaS9g3F9WAOcpGWO3jhQvomxDgbBTtwFnLFAg50xW2E0PxAUHAxQEFdA5nBPsRlPshX1U4OtYYOFGBQIzajzZNkmMVuCt2SDKPIcCPXkhVlrWc0AATpeX66SAj06msaU9+wTW8jdbAoeZ1Y8mm6X5oX03BNTa7X5hhYDO9tzcXFJzc3O3SxpC4rKTq+UcpEDaje4FDZMDORl4zJCkjMsSu9f8FQqguR3SgYGZgZzwGrDKGwkUNnZlapWeA1S5tgKLqOI/lAcaNpOx1TIVeOZkmVvzE6h99wo8Ygpdo8sqGVuxFjdWplbmyLrxCliiiM1r4eFMrpveBvSINLaSZwPUyZKpNbYhsO99KoCJHf5DE2CPejK29k4FfnSezK25UDtDAU7k4L5QmTuQqRWMl6TMBTK12p18VUsgFCusnw47G1zBS3KA5zW31swAEhq7xtbTtQYaPLACpfggelIqMLGTTK34awHpLV0ZW7o6LOmtQCo+iDx42gKZWjGuJHVyZWodNLqlJeDqHMh8SEj/fQZXxfOBEfdpbLmVQsBlm2VqpXUDuN5kmVpPNwiososCtE6AfqnAYTEyt/LHkPATgjK49Dtyf58CuAG+2FuwyJWpdbUlOestgd1AXv7gQuhYy9z6Gw2BnP3zTS03YyGw9Vco8BuomzkR4IUWyNRqOh1YfpYCwgG6ZcDuK2VwtauSfnpQhpZr0VVWKWAccKtw/C1YAsmBtgOXc8xkg2tmK4CTzK1baw0s/LWuqVV82wAHLFKgOXD257YCoaVBmVr3mQrMeQ4FoANmSa+LwoIsGVw6tMWTKDAdCKtxnxZFy9AK/oSixHqWgHXAq96uQI+gsRWcUBuocqpMrXq7AlROk6EV7FMbyL5pBbgDWO1WALRqJ2Mr/wjIvmkFvgNYeo70ge1kaEUfatFmBcQDUpvH5DywJUAegMr/n0UQFWlurZoDMO0UUyvyOtWAKvepAHqA6dBeACM3yNDKeuZUYGtTBdYDSm43SJ2dJHNLK/eNulwB90CRO9yiJ4mXobXyDB7fEpAPCEVfdxvstcDcGn8EQNtmplbS/RUC5Tu7MrT+xFaAoe0UuA/wBJ8XYFRTBfIDPGoO1a6TJ4PrlNY97kUB/sBN3sVBSToyKEPrP4ziRIsDMECz8gJg9GRjK2vpQqDwrpJMrV8xBaDHKjkEAy/tRgI0+bVBGVqR6wCOninnYMBFV4I95stJGFBxLfF1J+TLzHLvftdISQrKYRg46T0GBlsch4GSmbvlAMtjTa3oi8sDxC2SoXXoCQC9dpEzMQCSdg7Awq7JMrVmlgfOSZFjMQCiX8zBh8rBGNj4G7tYon9qtMysBfulH9NJzsfARfSWKkAdc+vPnQCw1wBT61EnQO2flykz6/+JswQcMlaOyIDEKiIi93I5JHdk/bF/iAimZ7fo25lBOWQm1rfeQUSPHefGLRNZZv7Vwcy88V6HnJM7utIK44iVpO5WOlU1xmTZtHIsKbgyAJDUWHt3Oxyhh5+yr3Zr74p+S/+awTb7N3+4CT0jdopKQOuTI62dsY01YXCEznktHjGyOfbu/0be2XvXpo83UbahCBTjw2Ab+13onheB45aPAs5RXap6YR8VcXLXnXwYpPO8PGVETf7+gt7uI0I6h3F4BM2aH0SOdT2FlMU57UawMkLm6QYiom4MS6HGYGRzeVVXUukxnKEImAfvKbVzZzUWiHPYJoNB/QeOKaJFTMRLszvdICL60AwzVxtDpVG1HGObGs3nZFfrfsXSPEW8LCUi2v6mzGltZNwykWWcmVk7ZMRH5AE6ujDPKBTe8hovkKSv60qMRKEtvuUg2lgQKaxlbRkG7LvB1Io+cwlAqE4tMyt4UBRAwtUryGEKZvXeBEDOyNJynIJZZhVI3fNsOVAhzM2SpOsSdy9ypMKXe/hll1jiy8qhCl3uLZwA5YvlZIWt4KyDsQ4wtIJXXov1jLIysqLPmoK1XG85XOEqsjVA3Hg5XuFKXWHiKjlgIap4n5aW2JEV5YiFp5mTltMkVg5aaGp2VyMAlppai3ZLB9h2VIyZ1ft5XxZAkyt1kqMWkPKnA0z/CUly2AKS/id06RAvxy0IJU24huWU1RdFy4ELQDHHlqdJppy74FNvtyKAaxha7q/omwqwcFNPIyv/zLpYq/zhWnLyQk7yIIBGcyPl7IUaV5L2htWnBuX0BRm33+P+PMvMxePlAAaYyF87BbIj5RgGl7E3lo31QDPLvcrEQqyH7eIaWUceh7XoIWvISQwqya2BrfvMlLMYSILbJ0tSAZeeGi2nMYjUWtqFn2dp95flQIYPd/gLFQGtk+VUho5TWk7BmhO3xsia+qMTsWYf1VPOZdh4SqyrByTLyQwWPS3xx1C+zl+WwxkmFnQ4rdoaSfrFdx8pxzNAuNeunwj8YYsjGhyanVQG21ZGlrvxVguxLq++SkaWGgKkzhgQKQc1GNT6HZa5MO/n/Q45q2Eg69QL0qdZioc2DcppDQDu7xuSDRSdIod26Gu2Twtssy83sp7k0hysocrbs2RklcU6pkMtObjDWvDa+7mS3Ci2TqonZ3coc3vf315wuSQ9xPqgnN4hrN7gcVjbW5zgYat01yOwLax5n0ZWVndse1RaI8d4eFq0QZLOAY77w4vkJA9Ji/5nXfpYTu21/x3IYR6Gzn6MugBjLK4rx3nYcZ/kxqKwj8qTMz3sTMP+/En34sqwymxmqWRZW3AvrpzrO1Fi/nVc4jTL2JwVS/+GnO07QdyKe1+RCmyLl6QNcrzv1Ij8E807Yr9tvMUBv1OjAPt1D/kn4mVWZa3faHlgIDX3kce7cs7vNOh5Yt996ehKCi7pm7FGznr/L+8/zD4f2+eQpKAc9/7ejRxWhH162yexOPD9uCTLrWFb5pm3J8mp76fVmnX1XlMsSSFGnHGNI+Xk98Pymu5XNwcgRpJOrJosh7+/VWNS/3Q8zrIYgH5UtOUs7C+ctqW0TKpap97VEdeyTAa23WrjO3BlDvo/7u/4qc+8RyqQnidJt33S/CyZhf7OLhdMx3NVi4Hov7TbbDkR+2P6TlgVbU5FXj5haBke1zIVWPJCFz+HK3PR34i+l1973pxqWJcHJQVvaGOMDEd/YyBetq4gM9I/yJ9693VWd7CcZFN7zKYDF7kyoyIfuMN5pxUBDLVcs3CPo+euypdJ6evGFOK5hSUrU8alrzsA28Ljzmm83mJi+rohFOXu1uGB82Rw+rq/MTVfpqevM0FL+a+U/0r5LwIgclKZ0KCRK82tyB4ManUa2UcaW8fSMFZaygGmVtZoekvSWsoaWlUZJetgCgytxlS22U45Q2sTm2xWMcfQOpobs6lHIy+ibEOG1G2zv81mY2sTm2xWMccL+yhDqjGVbbZTztCqyiibwUwytJK709uylgcuoYWhKGM2tHDHpBujR5K0lBUq4SoLw0ko5BeEQv5AKOQXhEL+QCjkD4RCfkEoFF4WVtlRReYyqFUuTeqVWLiNipI/GBUlPzAqSv5gVJT8wKgo+YFRUfIHo6LkE/OOHZVepf5YmVs7+lL/KuX/UvSNnFQmNGjkSu86DRmWPqx9J58SOalMaNDIlV7Nw/5OfUfZk+KmEyqRTkOGpQ9r38mHlD0pbjqhEpiH/Z36jsyNi6dsS1zbJta7TkOGpQ9r38l3ZG5cPGVb4to2sV7Nw/5OfcjSuCX7pg97oanedRoyLH1Y+07+RGQPBrU6jewjvZlZhi6tWrBkpg+J7MGgVqeRfaR39W1TfMcyoIRmlqFLqxYsmek7lgFhUN82xXfMhRaVa25jXIw3M8vQpVULlsz0GXOhReWa2xgX41192xQf0qTotLi4RqT/CW9mlqFLqxYsmelHHEvDWGkpB3hzDn3zpeq8kA85loax0lIO8E6+9jEmPf6aEjqHvvlSdV7IdzzGpMdfEwbytTs33ywp5QSe15tz6JsvVeeFfMbOzTdLSjmB5/VOPvfQSEn6Z0yP9uIc+uZL1Xkh/yFrNL0laS1lPU3OSVgjKT67cI3PyBpNb0laS1lfZi2RyTkJayTFZxeu8RlW3+dxPqFkT5NzEtZIis8uXOMrPM4nlOzTPC7hOTxNzklYIyk+u3CN31CVUbIOpsBTZ9rKupgMn1GVUbIOpsC/6ExbWReTsVMsE1I8daatrIvJ8DGZkOIP9KKep860lXUxGX5DYyrbbKecpyFcn01LZvuMxlS22U45r/Y5r32Hdr5tCOfatGS2b9vnvPYd2vmgeyEh3tMQzrVpyWwfcy8kxHu1z3ntO7TzQTvTKOhpCOfatGS237CJTTarmOMpjgk2t0Bfn7GJTTarmOOVNXGLT4tjgs0t0Ne3WRO3+J7bpps8xzHB5hbo62Num27yypq4xbfsU/+CFkwvK89xTLC5Bfr6DUdzYzb1aORpBnNt+nGpzziaG7OpRyMvqs/qmTe1TiEbfdkM5tr041JfVn1Wz7ypdQrZ6GtuLTVhlRczmGvTj0t9y62lJqzypvqsnnlT6xSy0ae0BTr+OXk5g7k2/bjUb7ht9rfZ7M3xbLFp6kNum/1tNntl34FGvux4ttg09W32HWjkY2osp4+8PJ4tNk19TI3l9FGJd6CRT5E6rT+eS7w4ni02Tf2ITWyyWcUcT3FMsLkF+vqMTWyyWcWcEgpeyCIfFscEm1ugr+8LXsgin7JyGHXkbRwTbG6Bvr5k5TDqKAyDF7LIt0hZl6U+sKc4JtjcAn39hsZUttlOOU9DONemJbN9RmMq22ynXAmpIcN92BDOtWnJbN+nhgz3JWnjGOl6NYRzbVoy24ekjWOkGxZqyHBfo3041tMQzrVpyWy/oSqjbAYzyVNn2tosprPPqMoom8FMKrFxVPRhnWlrs5jOfsA4KvqQ4rr0jZbXnWlrs5jOvqO4Ln2jFabjqOhzOrObp860tVlMZ78huTu9LWt5YE8pOekxkuKzcyb7jOTu9Las5YFLaGpqYrIPS8lJj5EUn50z2fdNTU1M9h3xq6mZLO9TctJjJMVn50z2GfGrqZmsMJ2ampjsc+rT1VNKTnqMpPjsnMl+g26MHknSUlZIqtTrKEk6hIn5UnuGynfeGD2SpKWskFSp11GS/kNZS8XzaS+fVKnXUZJ0CBPzpfYMlU+q1OsoSf+hrKXi+bSXz4yOY9dMeazU6yhJOoSJ+VJ7hspXRsexa6Y8Vup1lKT/UNZS8Xzay2euH5AvKeu6ObXHSpV6HSVJhzAxX2rPUPmPkbkMapVLk3qSCqhvSRvFqIHHMSrNh0TmMqhVLk3qSSqgvqQC5u0+8LRq9M/0Hdtzc3NJzc3N3S4VUN+SNopRA49jVJrv2J6bm0tqbm7udqmA+pIKmLf7wNOq0T/Td/SBuPq2aVIB9S1poxg18DhGpfmMPhBX3zZNKqC+pALm7T7wtGr0z/QdGRxTc89LB1F0lqQC6lvSRjFq4HGMSvMjlHfsqPQq9cfKG9Wq3jG94zNvkC/NO3ZUepX6Y+XF/MVTmlQrf6250fKdGXjM8EK1qndM7/jMG+Q7M/CY4Wn+4ilNqpW/1txo+c4CPJf2QrWqd0zv+Mwb5DML8Fza0/zFU5pUK3+tudHynYuuM2ZQwogW1evJG9Wq3jG94zNvUCn/l/J/Kf+X8n8p/5fyf6AWAA==)"
      ],
      "metadata": {
        "id": "8PSRIE5Sv4v9"
      }
    },
    {
      "cell_type": "markdown",
      "source": [
        " For example, taking the second point, (x=2, y=13), and considering that y = a₀ + a₁x + a₂x²\n",
        "\n",
        " $13 = a_0 + a_1 * 2 + a_2 * 2^2  $ <br>\n",
        " $a_0 + a_1 + 4a_2 = 13$\n",
        "\n",
        " This way, for each point (x, y), you’ll get an equation involving a₀, a₁, and a₂.\n",
        "\n",
        "$a_0 + a_1 + a_2 = 5$ <br>\n",
        "$a_0 + 2a_1 + 4a_2 = 13$ <br>\n",
        "$a_0 + 3a_1 + 9a_2 = 5$"
      ],
      "metadata": {
        "id": "loHM2Nf0wewX"
      }
    },
    {
      "cell_type": "code",
      "source": [
        "A = np.array([[1, 1, 1], [1, 2, 4], [1, 3, 9]])"
      ],
      "metadata": {
        "id": "PO-ZI5NExu2Q"
      },
      "execution_count": null,
      "outputs": []
    },
    {
      "cell_type": "markdown",
      "source": [
        "To check if this system has a unique solution, you can calculate the determinant of the coefficients matrix and check if it’s not zero."
      ],
      "metadata": {
        "id": "IgX5iDH3x33f"
      }
    },
    {
      "cell_type": "code",
      "source": [
        "np.linalg.det(A)"
      ],
      "metadata": {
        "colab": {
          "base_uri": "https://localhost:8080/"
        },
        "id": "-EHPXPDix7iR",
        "outputId": "e3f2ddfc-2cb8-40fe-ef67-54640f848252"
      },
      "execution_count": null,
      "outputs": [
        {
          "output_type": "execute_result",
          "data": {
            "text/plain": [
              "2.0"
            ]
          },
          "metadata": {},
          "execution_count": 106
        }
      ]
    },
    {
      "cell_type": "markdown",
      "source": [
        "This result tells you that a₀ = 1, a₁ = 2, and a₂ = 2 is a solution for the system. In other words, the polynomial that includes the points (1, 5), (2, 13), and (3, 25) is given by y = P(x) = 1 + 2x + 2x²."
      ],
      "metadata": {
        "id": "tpDS7c3nyiol"
      }
    },
    {
      "cell_type": "code",
      "source": [
        "b = np.array([5, 13, 25]).reshape((3, 1))\n",
        "x = np.linalg.inv(A) @ b\n",
        "x"
      ],
      "metadata": {
        "colab": {
          "base_uri": "https://localhost:8080/"
        },
        "id": "RZ60ReejyKQh",
        "outputId": "84c2759f-0ffe-4536-98d9-cfcee4c9c5c6"
      },
      "execution_count": null,
      "outputs": [
        {
          "output_type": "execute_result",
          "data": {
            "text/plain": [
              "array([[1.],\n",
              "       [2.],\n",
              "       [2.]])"
            ]
          },
          "metadata": {},
          "execution_count": 107
        }
      ]
    },
    {
      "cell_type": "markdown",
      "source": [
        "#What if"
      ],
      "metadata": {
        "id": "BAFz1IDwBd4R"
      }
    },
    {
      "cell_type": "markdown",
      "source": [
        "Systems of linear equations classifies as:\n",
        "- under-determined if $m < n$ (A wide)\n",
        "- square if $m = n$ (A square)\n",
        "- over-determined if $m>n$ (A tall)\n",
        "\n",
        "\n",
        "Depending on $A$ and $b$, there can be:\n",
        "- no solution\n",
        "- one solution\n",
        "- many solutions"
      ],
      "metadata": {
        "id": "hfboHPyfplSM"
      }
    },
    {
      "cell_type": "markdown",
      "source": [
        "As an example of a system without any solution, say that you’re trying to interpolate a parabola with the (x, y) points given by (1, 5), (2, 13), and (2, 25).\n",
        "\n",
        "$a_0 + a_1 + a_2 = 5$ <br>\n",
        "$a_0 + 2a_1 + 4a_2 = 13$<br>\n",
        "$a_0 + 2a_1 + 4a_2 = 25$"
      ],
      "metadata": {
        "id": "LAujrRjCrlYZ"
      }
    },
    {
      "cell_type": "code",
      "source": [
        "A = np.array([[1, 1, 1], [1, 2, 4], [1, 2, 4]])\n",
        "det = np.linalg.det(A)\n",
        "print(det)\n"
      ],
      "metadata": {
        "colab": {
          "base_uri": "https://localhost:8080/"
        },
        "id": "iFlj6DE0r3SN",
        "outputId": "335cbabb-fdd1-4f3e-dfc0-eb82636b3cd8"
      },
      "execution_count": null,
      "outputs": [
        {
          "output_type": "stream",
          "name": "stdout",
          "text": [
            "0.0\n"
          ]
        }
      ]
    },
    {
      "cell_type": "markdown",
      "source": [
        "You may notice that the value of the determinant is zero, which means that the system doesn’t have a unique solution. This also means that the inverse of the coefficients matrix doesn’t exist. In other words, the coefficients matrix is singular."
      ],
      "metadata": {
        "id": "ow3kLyIqvTeb"
      }
    },
    {
      "cell_type": "code",
      "source": [
        "b = np.array([5, 13, 25]).reshape((3, 1))\n",
        "x = np.linalg.inv(A) @ b"
      ],
      "metadata": {
        "colab": {
          "base_uri": "https://localhost:8080/",
          "height": 339
        },
        "id": "N3xNnpknvVfM",
        "outputId": "c81ee70b-f18b-4b41-9d24-061e60bfa5b6"
      },
      "execution_count": null,
      "outputs": [
        {
          "output_type": "error",
          "ename": "LinAlgError",
          "evalue": "Singular matrix",
          "traceback": [
            "\u001b[0;31m---------------------------------------------------------------------------\u001b[0m",
            "\u001b[0;31mLinAlgError\u001b[0m                               Traceback (most recent call last)",
            "\u001b[0;32m<ipython-input-109-45e28b2bd635>\u001b[0m in \u001b[0;36m<cell line: 2>\u001b[0;34m()\u001b[0m\n\u001b[1;32m      1\u001b[0m \u001b[0mb\u001b[0m \u001b[0;34m=\u001b[0m \u001b[0mnp\u001b[0m\u001b[0;34m.\u001b[0m\u001b[0marray\u001b[0m\u001b[0;34m(\u001b[0m\u001b[0;34m[\u001b[0m\u001b[0;36m5\u001b[0m\u001b[0;34m,\u001b[0m \u001b[0;36m13\u001b[0m\u001b[0;34m,\u001b[0m \u001b[0;36m25\u001b[0m\u001b[0;34m]\u001b[0m\u001b[0;34m)\u001b[0m\u001b[0;34m.\u001b[0m\u001b[0mreshape\u001b[0m\u001b[0;34m(\u001b[0m\u001b[0;34m(\u001b[0m\u001b[0;36m3\u001b[0m\u001b[0;34m,\u001b[0m \u001b[0;36m1\u001b[0m\u001b[0;34m)\u001b[0m\u001b[0;34m)\u001b[0m\u001b[0;34m\u001b[0m\u001b[0;34m\u001b[0m\u001b[0m\n\u001b[0;32m----> 2\u001b[0;31m \u001b[0mx\u001b[0m \u001b[0;34m=\u001b[0m \u001b[0mnp\u001b[0m\u001b[0;34m.\u001b[0m\u001b[0mlinalg\u001b[0m\u001b[0;34m.\u001b[0m\u001b[0minv\u001b[0m\u001b[0;34m(\u001b[0m\u001b[0mA\u001b[0m\u001b[0;34m)\u001b[0m \u001b[0;34m@\u001b[0m \u001b[0mb\u001b[0m\u001b[0;34m\u001b[0m\u001b[0;34m\u001b[0m\u001b[0m\n\u001b[0m",
            "\u001b[0;32m/usr/local/lib/python3.10/dist-packages/numpy/core/overrides.py\u001b[0m in \u001b[0;36minv\u001b[0;34m(*args, **kwargs)\u001b[0m\n",
            "\u001b[0;32m/usr/local/lib/python3.10/dist-packages/numpy/linalg/linalg.py\u001b[0m in \u001b[0;36minv\u001b[0;34m(a)\u001b[0m\n\u001b[1;32m    550\u001b[0m     \u001b[0msignature\u001b[0m \u001b[0;34m=\u001b[0m \u001b[0;34m'D->D'\u001b[0m \u001b[0;32mif\u001b[0m \u001b[0misComplexType\u001b[0m\u001b[0;34m(\u001b[0m\u001b[0mt\u001b[0m\u001b[0;34m)\u001b[0m \u001b[0;32melse\u001b[0m \u001b[0;34m'd->d'\u001b[0m\u001b[0;34m\u001b[0m\u001b[0;34m\u001b[0m\u001b[0m\n\u001b[1;32m    551\u001b[0m     \u001b[0mextobj\u001b[0m \u001b[0;34m=\u001b[0m \u001b[0mget_linalg_error_extobj\u001b[0m\u001b[0;34m(\u001b[0m\u001b[0m_raise_linalgerror_singular\u001b[0m\u001b[0;34m)\u001b[0m\u001b[0;34m\u001b[0m\u001b[0;34m\u001b[0m\u001b[0m\n\u001b[0;32m--> 552\u001b[0;31m     \u001b[0mainv\u001b[0m \u001b[0;34m=\u001b[0m \u001b[0m_umath_linalg\u001b[0m\u001b[0;34m.\u001b[0m\u001b[0minv\u001b[0m\u001b[0;34m(\u001b[0m\u001b[0ma\u001b[0m\u001b[0;34m,\u001b[0m \u001b[0msignature\u001b[0m\u001b[0;34m=\u001b[0m\u001b[0msignature\u001b[0m\u001b[0;34m,\u001b[0m \u001b[0mextobj\u001b[0m\u001b[0;34m=\u001b[0m\u001b[0mextobj\u001b[0m\u001b[0;34m)\u001b[0m\u001b[0;34m\u001b[0m\u001b[0;34m\u001b[0m\u001b[0m\n\u001b[0m\u001b[1;32m    553\u001b[0m     \u001b[0;32mreturn\u001b[0m \u001b[0mwrap\u001b[0m\u001b[0;34m(\u001b[0m\u001b[0mainv\u001b[0m\u001b[0;34m.\u001b[0m\u001b[0mastype\u001b[0m\u001b[0;34m(\u001b[0m\u001b[0mresult_t\u001b[0m\u001b[0;34m,\u001b[0m \u001b[0mcopy\u001b[0m\u001b[0;34m=\u001b[0m\u001b[0;32mFalse\u001b[0m\u001b[0;34m)\u001b[0m\u001b[0;34m)\u001b[0m\u001b[0;34m\u001b[0m\u001b[0;34m\u001b[0m\u001b[0m\n\u001b[1;32m    554\u001b[0m \u001b[0;34m\u001b[0m\u001b[0m\n",
            "\u001b[0;32m/usr/local/lib/python3.10/dist-packages/numpy/linalg/linalg.py\u001b[0m in \u001b[0;36m_raise_linalgerror_singular\u001b[0;34m(err, flag)\u001b[0m\n\u001b[1;32m     87\u001b[0m \u001b[0;34m\u001b[0m\u001b[0m\n\u001b[1;32m     88\u001b[0m \u001b[0;32mdef\u001b[0m \u001b[0m_raise_linalgerror_singular\u001b[0m\u001b[0;34m(\u001b[0m\u001b[0merr\u001b[0m\u001b[0;34m,\u001b[0m \u001b[0mflag\u001b[0m\u001b[0;34m)\u001b[0m\u001b[0;34m:\u001b[0m\u001b[0;34m\u001b[0m\u001b[0;34m\u001b[0m\u001b[0m\n\u001b[0;32m---> 89\u001b[0;31m     \u001b[0;32mraise\u001b[0m \u001b[0mLinAlgError\u001b[0m\u001b[0;34m(\u001b[0m\u001b[0;34m\"Singular matrix\"\u001b[0m\u001b[0;34m)\u001b[0m\u001b[0;34m\u001b[0m\u001b[0;34m\u001b[0m\u001b[0m\n\u001b[0m\u001b[1;32m     90\u001b[0m \u001b[0;34m\u001b[0m\u001b[0m\n\u001b[1;32m     91\u001b[0m \u001b[0;32mdef\u001b[0m \u001b[0m_raise_linalgerror_nonposdef\u001b[0m\u001b[0;34m(\u001b[0m\u001b[0merr\u001b[0m\u001b[0;34m,\u001b[0m \u001b[0mflag\u001b[0m\u001b[0;34m)\u001b[0m\u001b[0;34m:\u001b[0m\u001b[0;34m\u001b[0m\u001b[0;34m\u001b[0m\u001b[0m\n",
            "\u001b[0;31mLinAlgError\u001b[0m: Singular matrix"
          ]
        }
      ]
    },
    {
      "cell_type": "markdown",
      "source": [
        "##Least squares problem\n",
        "This is generally the case when you’re working with real-world data.\n",
        "\n",
        "- for the most choices of $b$ there is x that satisfies $Ax=b$\n",
        "- `residual` is $r = Ax - b$\n",
        "- least square problem: choose $x$ to minimize $||Ax - b||^2$\n",
        "- $||Ax - b||^2$: is the `objective function`\n",
        "-$ \\hat{x}$ is a solution of least square problem if\n",
        "\n",
        "$||A \\hat{x} - b ||^2 \\leq ||Ax - b||^2 $\n",
        "\n",
        "- $\\hat{x} $ called `least squares approximate solution` of $Ax = b$"
      ],
      "metadata": {
        "id": "BFCYDzxfvugi"
      }
    },
    {
      "cell_type": "code",
      "source": [
        "A = np.array([[1, 1, 1], [1, 2, 4], [1, 2, 4]])\n",
        "b = np.array([5, 13, 25]).reshape((3, 1))\n",
        "p, *_ = np.linalg.lstsq(A, b)\n",
        "print(p)"
      ],
      "metadata": {
        "colab": {
          "base_uri": "https://localhost:8080/"
        },
        "id": "EatUPLJZ0qYO",
        "outputId": "553b8772-a06b-4fbf-ef49-ae2838124d8e"
      },
      "execution_count": null,
      "outputs": [
        {
          "output_type": "stream",
          "name": "stdout",
          "text": [
            "[[-0.42857143]\n",
            " [ 1.14285714]\n",
            " [ 4.28571429]]\n"
          ]
        },
        {
          "output_type": "stream",
          "name": "stderr",
          "text": [
            "<ipython-input-110-96389cd13478>:3: FutureWarning: `rcond` parameter will change to the default of machine precision times ``max(M, N)`` where M and N are the input matrix dimensions.\n",
            "To use the future default and silence this warning we advise to pass `rcond=None`, to keep using the old, explicitly pass `rcond=-1`.\n",
            "  p, *_ = np.linalg.lstsq(A, b)\n"
          ]
        }
      ]
    },
    {
      "cell_type": "markdown",
      "source": [
        "`np.linalg.lstsq()` provides the coefficients that minimize the squared errors."
      ],
      "metadata": {
        "id": "7D4_0thk1G9J"
      }
    },
    {
      "cell_type": "code",
      "source": [
        "x = np.linspace(0, 3, 1000)\n",
        "y = p[0] + p[1] * x + p[2] * x ** 2\n",
        "plt.plot(x, y)\n",
        "plt.plot(1, 5, \"ro\")\n",
        "plt.plot(2, 13, \"ro\")\n",
        "plt.plot(2, 25, \"ro\")\n",
        "plt.show()"
      ],
      "metadata": {
        "colab": {
          "base_uri": "https://localhost:8080/",
          "height": 430
        },
        "id": "TwLov7FL1Nky",
        "outputId": "67721645-0c4a-43d6-89fb-f71564f83a3d"
      },
      "execution_count": null,
      "outputs": [
        {
          "output_type": "display_data",
          "data": {
            "text/plain": [
              "<Figure size 640x480 with 1 Axes>"
            ],
            "image/png": "[encoded data removed]"
          },
          "metadata": {}
        }
      ]
    },
    {
      "cell_type": "markdown",
      "source": [
        "##Obtaining Least Squares Solutions Using a Pseudoinverse\n",
        "\n",
        "Another way to compute the least squares solution is by using the Moore-Penrose pseudoinverse of a matrix.\n",
        "\n",
        "You can think of a pseudoinverse as a generalization of the matrix inverse, as it’s equal to the usual matrix inverse when the matrix isn’t singular."
      ],
      "metadata": {
        "id": "UMEmuiVm2h9m"
      }
    },
    {
      "cell_type": "code",
      "source": [
        "A = np.array([[1, 1, 1], [1, 2, 4], [1, 2, 4]])\n",
        "b = np.array([5, 13, 25]).reshape((3, 1))\n",
        "\n",
        "A_pinv = np.linalg.pinv(A)\n",
        "\n",
        "p2 = A_pinv @ b\n",
        "print(p2)\n"
      ],
      "metadata": {
        "colab": {
          "base_uri": "https://localhost:8080/"
        },
        "id": "T0URy4Cx2Aar",
        "outputId": "9a21b4d3-7b08-48d3-f0a8-3893fcd33606"
      },
      "execution_count": null,
      "outputs": [
        {
          "output_type": "stream",
          "name": "stdout",
          "text": [
            "[[-0.42857143]\n",
            " [ 1.14285714]\n",
            " [ 4.28571429]]\n"
          ]
        }
      ]
    }
  ]
}