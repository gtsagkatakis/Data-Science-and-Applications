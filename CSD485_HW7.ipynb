{
  "nbformat": 4,
  "nbformat_minor": 0,
  "metadata": {
    "colab": {
      "provenance": [],
      "include_colab_link": true
    },
    "kernelspec": {
      "name": "python3",
      "display_name": "Python 3"
    },
    "language_info": {
      "name": "python"
    }
  },
  "cells": [
    {
      "cell_type": "markdown",
      "metadata": {
        "id": "view-in-github",
        "colab_type": "text"
      },
      "source": [
        "<a href=\"https://colab.research.google.com/github/gtsagkatakis/Data-Science-and-Applications/blob/main/CSD485_HW7.ipynb\" target=\"_parent\"><img src=\"https://colab.research.google.com/assets/colab-badge.svg\" alt=\"Open In Colab\"/></a>"
      ]
    },
    {
      "cell_type": "markdown",
      "source": [
        "#Introduction to Graph Neural Networks with PyTorch"
      ],
      "metadata": {
        "id": "SbbW-ULMzaff"
      }
    },
    {
      "cell_type": "markdown",
      "source": [
        "# HOMEWORK 7"
      ],
      "metadata": {
        "id": "vzxGLid4PpzC"
      }
    },
    {
      "cell_type": "markdown",
      "source": [
        "Perform node classification on the PubMed dataset to classify scientific publications into their respective categories. The PubMed dataset is a citation network among scientific publications. It consists of articles related to diabetes, with each article belonging to one of three categories: \"Diabetes Mellitus Type 1\" (class 0), \"Diabetes Mellitus Type 2\" (class 1), and \"Diabetes Mellitus\" (class 2)."
      ],
      "metadata": {
        "id": "87d53_SXSKn8"
      }
    },
    {
      "cell_type": "markdown",
      "source": [
        "# Install required packages.\n"
      ],
      "metadata": {
        "id": "4ODQgEFgpBKk"
      }
    },
    {
      "cell_type": "code",
      "source": [
        "import os\n",
        "import torch\n",
        "os.environ['TORCH'] = torch.__version__\n",
        "print(torch.__version__)\n",
        "\n",
        "!pip install -q torch-scatter -f https://data.pyg.org/whl/torch-${TORCH}.html\n",
        "!pip install -q torch-sparse -f https://data.pyg.org/whl/torch-${TORCH}.html\n",
        "!pip install -q git+https://github.com/pyg-team/pytorch_geometric.git"
      ],
      "metadata": {
        "colab": {
          "base_uri": "https://localhost:8080/"
        },
        "id": "jNcfcfjzpFwk",
        "outputId": "21eb644f-939b-4959-c8cd-95990a3f4b97"
      },
      "execution_count": null,
      "outputs": [
        {
          "output_type": "stream",
          "name": "stdout",
          "text": [
            "2.2.1+cu121\n",
            "  Installing build dependencies ... \u001b[?25l\u001b[?25hdone\n",
            "  Getting requirements to build wheel ... \u001b[?25l\u001b[?25hdone\n",
            "  Preparing metadata (pyproject.toml) ... \u001b[?25l\u001b[?25hdone\n"
          ]
        }
      ]
    },
    {
      "cell_type": "markdown",
      "source": [
        "#Load the dataset"
      ],
      "metadata": {
        "id": "nw-2CecKodxM"
      }
    },
    {
      "cell_type": "code",
      "source": [
        "from torch_geometric.datasets import Planetoid\n",
        "\n",
        "# Load the Cora dataset\n",
        "dataset = Planetoid(root='data/Planetoid', name='PubMed')\n",
        "\n",
        "# Print dataset information\n",
        "print()\n",
        "print(f'Dataset: {dataset}:')\n",
        "print('======================')\n",
        "print(f'Number of graphs: {len(dataset)}')\n",
        "print(f'Number of features: {dataset.num_features}')\n",
        "print(f'Number of classes: {dataset.num_classes}')\n",
        "\n",
        "data = dataset[0]  # Get the first graph object.\n",
        "\n",
        "print()\n",
        "print(data)"
      ],
      "metadata": {
        "colab": {
          "base_uri": "https://localhost:8080/"
        },
        "id": "5MxCzANaoiP1",
        "outputId": "a9998b32-e3a1-4d70-ad46-5546d4fe14ae"
      },
      "execution_count": null,
      "outputs": [
        {
          "output_type": "stream",
          "name": "stderr",
          "text": [
            "Downloading https://github.com/kimiyoung/planetoid/raw/master/data/ind.pubmed.x\n",
            "Downloading https://github.com/kimiyoung/planetoid/raw/master/data/ind.pubmed.tx\n",
            "Downloading https://github.com/kimiyoung/planetoid/raw/master/data/ind.pubmed.allx\n",
            "Downloading https://github.com/kimiyoung/planetoid/raw/master/data/ind.pubmed.y\n",
            "Downloading https://github.com/kimiyoung/planetoid/raw/master/data/ind.pubmed.ty\n",
            "Downloading https://github.com/kimiyoung/planetoid/raw/master/data/ind.pubmed.ally\n",
            "Downloading https://github.com/kimiyoung/planetoid/raw/master/data/ind.pubmed.graph\n",
            "Downloading https://github.com/kimiyoung/planetoid/raw/master/data/ind.pubmed.test.index\n",
            "Processing...\n"
          ]
        },
        {
          "output_type": "stream",
          "name": "stdout",
          "text": [
            "\n",
            "Dataset: PubMed():\n",
            "======================\n",
            "Number of graphs: 1\n",
            "Number of features: 500\n",
            "Number of classes: 3\n",
            "\n",
            "Data(x=[19717, 500], edge_index=[2, 88648], y=[19717], train_mask=[19717], val_mask=[19717], test_mask=[19717])\n"
          ]
        },
        {
          "output_type": "stream",
          "name": "stderr",
          "text": [
            "Done!\n"
          ]
        }
      ]
    },
    {
      "cell_type": "markdown",
      "source": [
        "**Define a GCN network**\n"
      ],
      "metadata": {
        "id": "DDez15KJseK_"
      }
    },
    {
      "cell_type": "code",
      "source": [],
      "metadata": {
        "id": "Jq4PCKNMsjR2"
      },
      "execution_count": null,
      "outputs": []
    },
    {
      "cell_type": "markdown",
      "source": [
        "**Visualize the node embeddings of the untrained GCN network using PCA (or t-SNE if you are or want to get familiar with it)**"
      ],
      "metadata": {
        "id": "y3tk5298s2ue"
      }
    },
    {
      "cell_type": "code",
      "source": [],
      "metadata": {
        "id": "kgxX95urtJgt"
      },
      "execution_count": null,
      "outputs": []
    },
    {
      "cell_type": "markdown",
      "source": [
        "**Perform a grid search hyperparameter tuning for the following parameters:**\n",
        "- Number of Layers\n",
        "- Hidden Dimension Size\n",
        "- Learning Rate\n",
        "- Dropout Rate\n",
        "- Batch Size\n",
        "\n",
        "PS: Remember, first you need to split the data into training, validation and test sets."
      ],
      "metadata": {
        "id": "pYX_Vp-Qt-Fr"
      }
    },
    {
      "cell_type": "code",
      "source": [],
      "metadata": {
        "id": "vsNmuyxCv-74"
      },
      "execution_count": null,
      "outputs": []
    },
    {
      "cell_type": "markdown",
      "source": [
        "**Train the GCN model with the optimal hyperparameters**\n",
        " - Select the best model based on the highest validation performance (lowest validation loss).*italicized text*\n",
        " - Save the best model to load it later for the final evaluation process."
      ],
      "metadata": {
        "id": "fp5rX-NcslFe"
      }
    },
    {
      "cell_type": "code",
      "source": [],
      "metadata": {
        "id": "JRFMZwWVslvW"
      },
      "execution_count": null,
      "outputs": []
    },
    {
      "cell_type": "markdown",
      "source": [
        "**Visualize the output embeddings of your trained model. What do you observe?**"
      ],
      "metadata": {
        "id": "VFDb77Y0stAe"
      }
    },
    {
      "cell_type": "code",
      "source": [],
      "metadata": {
        "id": "IMaMXYvnstf2"
      },
      "execution_count": null,
      "outputs": []
    },
    {
      "cell_type": "markdown",
      "source": [
        "**Evaluate the trained model on the test set and report the classification accuracy**"
      ],
      "metadata": {
        "id": "22G1yJext1ev"
      }
    },
    {
      "cell_type": "code",
      "source": [],
      "metadata": {
        "id": "96LWgh5tt9gd"
      },
      "execution_count": null,
      "outputs": []
    }
  ]
}