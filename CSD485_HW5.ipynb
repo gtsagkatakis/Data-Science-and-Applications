{
  "cells": [
    {
      "cell_type": "markdown",
      "metadata": {
        "id": "view-in-github",
        "colab_type": "text"
      },
      "source": [
        "<a href=\"https://colab.research.google.com/github/gtsagkatakis/Data-Science-and-Applications/blob/main/CSD458_HW5.ipynb\" target=\"_parent\"><img src=\"https://colab.research.google.com/assets/colab-badge.svg\" alt=\"Open In Colab\"/></a>"
      ]
    },
    {
      "cell_type": "markdown",
      "source": [
        "#**CSD458 HW5**\n",
        "Classify Fashion MNist images using CNNs"
      ],
      "metadata": {
        "id": "oqhxzc5tSO6d"
      }
    },
    {
      "cell_type": "markdown",
      "source": [
        "\n",
        "\n",
        "### **PART A: Training Convolutional Neural Networks (CNNs)**\n"
      ],
      "metadata": {
        "id": "HBUI4-BVY7qe"
      }
    },
    {
      "cell_type": "code",
      "source": [],
      "metadata": {
        "id": "dv3Y0wYEzLtM"
      },
      "execution_count": null,
      "outputs": []
    },
    {
      "cell_type": "markdown",
      "metadata": {
        "id": "acp_308rSHbj"
      },
      "source": [
        "\n",
        "#### 1. Download the Fashion Mnist Dataset\n",
        "\n"
      ]
    },
    {
      "cell_type": "code",
      "source": [],
      "metadata": {
        "id": "O89JS5zoym_z"
      },
      "execution_count": null,
      "outputs": []
    },
    {
      "cell_type": "markdown",
      "source": [
        "#### 2. Define the Dataset, Dataloader, Transforms. Use v2.Compose() to include even more transforms, such as rotations, crops and others.\n",
        "\n"
      ],
      "metadata": {
        "id": "qymVpNyLZAap"
      }
    },
    {
      "cell_type": "code",
      "source": [],
      "metadata": {
        "id": "dFOjGnwxyn53"
      },
      "execution_count": null,
      "outputs": []
    },
    {
      "cell_type": "markdown",
      "source": [
        "#### 3. Make your own version of CNN and report the validatation set accuracy\n",
        "\n"
      ],
      "metadata": {
        "id": "2vX6lT_wZCHx"
      }
    },
    {
      "cell_type": "code",
      "source": [],
      "metadata": {
        "id": "AJt8Z0abyo-2"
      },
      "execution_count": null,
      "outputs": []
    },
    {
      "cell_type": "markdown",
      "source": [
        "#### 4. Make 2 variations of CNNs (using different convolutions or pooling parameters) and compare them.\n",
        "\n"
      ],
      "metadata": {
        "id": "2PgjFjxBZENE"
      }
    },
    {
      "cell_type": "code",
      "source": [
        "# Variation 1"
      ],
      "metadata": {
        "id": "EuYeJDj4zGTq"
      },
      "execution_count": null,
      "outputs": []
    },
    {
      "cell_type": "code",
      "source": [
        "# Variation 2"
      ],
      "metadata": {
        "id": "K_uCPLDizVBb"
      },
      "execution_count": null,
      "outputs": []
    },
    {
      "cell_type": "markdown",
      "source": [
        "#### 5. Increase the number of Layers of the CNN (the number of convolutions followed by pooling layers) and observe what happens, in terms of the progress of the training and validation losses and the final model accuracies.\n",
        "\n"
      ],
      "metadata": {
        "id": "3BB2vOh6ZHEi"
      }
    },
    {
      "cell_type": "code",
      "source": [],
      "metadata": {
        "id": "LtXmE54nzHLT"
      },
      "execution_count": null,
      "outputs": []
    },
    {
      "cell_type": "markdown",
      "source": [
        "#### 6. Visualize some of the Feature Maps and Convolution Kernels that you find interesting."
      ],
      "metadata": {
        "id": "c1vGCvngZJXv"
      }
    },
    {
      "cell_type": "code",
      "source": [],
      "metadata": {
        "id": "WaOHgiDtzHyY"
      },
      "execution_count": null,
      "outputs": []
    },
    {
      "cell_type": "markdown",
      "source": [
        "### **PART B: Transfer Learning**\n",
        "\n",
        "\n",
        "\n",
        "\n",
        "\n"
      ],
      "metadata": {
        "id": "l69a3r-KS-Te"
      }
    },
    {
      "cell_type": "markdown",
      "source": [
        "#### 1. Load a Pretrained model (the simpler the better for computational efficiency e.g.resnet16). You are gonna use it to train your model on Fashion Mnist"
      ],
      "metadata": {
        "id": "xX6re9CCycLQ"
      }
    },
    {
      "cell_type": "code",
      "source": [],
      "metadata": {
        "id": "uMdhPbHZyhJR"
      },
      "execution_count": null,
      "outputs": []
    },
    {
      "cell_type": "markdown",
      "source": [
        "#### 2. Freeze the BackBone of the pretrained model (Convolutions etc) and modify the final fully connected layer/layers that perform classification (make sure the new output dimension matches the number of classes in Fashion Mnist)"
      ],
      "metadata": {
        "id": "Z5cFP61nyeYg"
      }
    },
    {
      "cell_type": "code",
      "source": [],
      "metadata": {
        "id": "W3SDIPmLyh5t"
      },
      "execution_count": null,
      "outputs": []
    },
    {
      "cell_type": "markdown",
      "source": [
        "#### 3. Train the model on Fashion Mnist for a few epoches and log your train/val loss progress as well as the final model accuracy on the validation set."
      ],
      "metadata": {
        "id": "zHQmtgS0yYC_"
      }
    },
    {
      "cell_type": "code",
      "source": [],
      "metadata": {
        "id": "OskIs86tymEi"
      },
      "execution_count": null,
      "outputs": []
    },
    {
      "cell_type": "markdown",
      "source": [
        "#### **Optional:** If you are interested you can also unfreeze the final convolutions of the pretrained model to Fine Tune it. You can even visualize the Feature Maps of you model."
      ],
      "metadata": {
        "id": "pm8mzHuKykll"
      }
    },
    {
      "cell_type": "markdown",
      "source": [
        "#### *Guidelines*: The goal of this assignment is that you play around a little bit with terms and notions introduced. You don' t have to train your models for ages. 5-10 epoches will suffice. We just want to see that you can make a model properly, train it and log some results."
      ],
      "metadata": {
        "id": "yORqJmiOY2Qm"
      }
    }
  ],
  "metadata": {
    "language_info": {
      "name": "python"
    },
    "colab": {
      "provenance": [],
      "include_colab_link": true
    },
    "kernelspec": {
      "name": "python3",
      "display_name": "Python 3"
    }
  },
  "nbformat": 4,
  "nbformat_minor": 0
}
