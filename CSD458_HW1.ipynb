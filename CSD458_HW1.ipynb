{
  "nbformat": 4,
  "nbformat_minor": 0,
  "metadata": {
    "colab": {
      "provenance": [],
      "authorship_tag": "ABX9TyOj1Q2pfCIlSU2zDhv0tGJl",
      "include_colab_link": true
    },
    "kernelspec": {
      "name": "python3",
      "display_name": "Python 3"
    },
    "language_info": {
      "name": "python"
    }
  },
  "cells": [
    {
      "cell_type": "markdown",
      "metadata": {
        "id": "view-in-github",
        "colab_type": "text"
      },
      "source": [
        "<a href=\"https://colab.research.google.com/github/gtsagkatakis/Data-Science-and-Applications/blob/main/CSD458_HW1.ipynb\" target=\"_parent\"><img src=\"https://colab.research.google.com/assets/colab-badge.svg\" alt=\"Open In Colab\"/></a>"
      ]
    },
    {
      "cell_type": "markdown",
      "source": [
        "The objective in this excersize is analyze a dataset by performing PCA and linear regression."
      ],
      "metadata": {
        "id": "0UjsWywY4SDt"
      }
    },
    {
      "cell_type": "markdown",
      "source": [
        "Complete the relevant code after the corresponding cells."
      ],
      "metadata": {
        "id": "3XJbMO544rdH"
      }
    },
    {
      "cell_type": "markdown",
      "source": [
        "Then upload the notebook to elearn."
      ],
      "metadata": {
        "id": "bkIyqiy54tLk"
      }
    },
    {
      "cell_type": "markdown",
      "source": [
        "Import necessary libraries"
      ],
      "metadata": {
        "id": "Vp0-pQt9XuFf"
      }
    },
    {
      "cell_type": "code",
      "execution_count": null,
      "metadata": {
        "id": "HypHxylwLYOA"
      },
      "outputs": [],
      "source": [
        "import numpy as np\n",
        "import pandas as pd\n",
        "import matplotlib.pyplot as plt\n",
        "import seaborn as sns\n",
        "from sklearn.datasets import fetch_california_housing"
      ]
    },
    {
      "cell_type": "markdown",
      "source": [
        "Load the california housing dataset"
      ],
      "metadata": {
        "id": "nMGxET9HXxWT"
      }
    },
    {
      "cell_type": "code",
      "source": [
        "california_housing = fetch_california_housing()\n",
        "df = pd.DataFrame(california_housing.data, columns=california_housing.feature_names)\n",
        "df['MedHouseVal'] = california_housing.target\n",
        "print(df.columns)\n",
        "data = df.to_numpy()"
      ],
      "metadata": {
        "id": "WAQdNSUaLu8n"
      },
      "execution_count": null,
      "outputs": []
    },
    {
      "cell_type": "markdown",
      "source": [
        "Visualize the data e.g. *correlation matrices*, *scatterplots*, something else\n"
      ],
      "metadata": {
        "id": "c5lbaCDgL549"
      }
    },
    {
      "cell_type": "code",
      "source": [],
      "metadata": {
        "id": "sOcFA-7EOngo"
      },
      "execution_count": null,
      "outputs": []
    },
    {
      "cell_type": "markdown",
      "source": [
        "split the data to training (80%) and test (20%) sets\n",
        "and standarize the features if necessary"
      ],
      "metadata": {
        "id": "zCUQd84LWkdc"
      }
    },
    {
      "cell_type": "code",
      "source": [],
      "metadata": {
        "id": "G6QrbDylOoJE"
      },
      "execution_count": null,
      "outputs": []
    },
    {
      "cell_type": "markdown",
      "source": [
        "perform PCA to reduce the number of features"
      ],
      "metadata": {
        "id": "VvvM0JaeUzvR"
      }
    },
    {
      "cell_type": "code",
      "source": [],
      "metadata": {
        "id": "4ju-WdZpOokZ"
      },
      "execution_count": null,
      "outputs": []
    },
    {
      "cell_type": "markdown",
      "source": [
        "provide scatterplots for the case of projections in 2 and 3 dimensions"
      ],
      "metadata": {
        "id": "FUIB9EtwXTEY"
      }
    },
    {
      "cell_type": "code",
      "source": [],
      "metadata": {
        "id": "X-kNtO04Oo7C"
      },
      "execution_count": null,
      "outputs": []
    },
    {
      "cell_type": "markdown",
      "source": [
        "perform linear regression using the original features"
      ],
      "metadata": {
        "id": "KCvFH71bW-md"
      }
    },
    {
      "cell_type": "code",
      "source": [],
      "metadata": {
        "id": "gHSbZS-LOpV3"
      },
      "execution_count": null,
      "outputs": []
    },
    {
      "cell_type": "markdown",
      "source": [
        "perform linear regression using PCA-reduced features"
      ],
      "metadata": {
        "id": "o7Cr5U19XiSG"
      }
    },
    {
      "cell_type": "code",
      "source": [],
      "metadata": {
        "id": "fDiN811MOpu8"
      },
      "execution_count": null,
      "outputs": []
    },
    {
      "cell_type": "markdown",
      "source": [
        "Compare the perfornance of linear regression on the original vs the PCA features"
      ],
      "metadata": {
        "id": "vS8359EfVf8w"
      }
    },
    {
      "cell_type": "code",
      "source": [],
      "metadata": {
        "id": "DdQVtNbgOqDb"
      },
      "execution_count": null,
      "outputs": []
    },
    {
      "cell_type": "markdown",
      "source": [
        "Quantify the impact of the number of principal components on the regression\n",
        "?"
      ],
      "metadata": {
        "id": "Hf-IV_71XCQA"
      }
    },
    {
      "cell_type": "code",
      "source": [],
      "metadata": {
        "id": "bUm9GjB-Oqpn"
      },
      "execution_count": null,
      "outputs": []
    }
  ]
}